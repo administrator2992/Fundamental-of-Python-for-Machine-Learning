{
 "cells": [
  {
   "cell_type": "markdown",
   "metadata": {},
   "source": [
    "# Pendekatan Supervised Learning\n",
    "Teknik supervised ini menggunakan data latih untuk melakukan pembelajaran pada mesin. Data latih yang dimaksud adalah data yang sudah ememiliki label. Tujuan dari metode *supervised learning* adalah agar mesin mampu mengindentifikasi label input yang baru dengan menggunakan fitur yang dimilikinya untuk melakukan prediksi maupun klasifikasi.\n",
    "\n",
    "Kondisi tersebut secara matematika dapat digambarkan dengan formula:\n",
    "\n",
    "**Y = f(X) + C**\n",
    "\n",
    "Dimana:\n",
    "* F adalah fungsi relasi antara nilai dengan jumlah jam belajar siswa dalam mempersiapkan sebuah ujian.\n",
    "* X adalah input (jumlah jam belajar yang dipersiapkan untuk masukan).\n",
    "* Y adalah output (prediksi nilai skor siswa dalam ujian\n",
    "* C adalah nili *random error.*\n",
    "\n",
    "Jadi tujuan dari algoritma supervised learning dalam kasus tersebut adalah untuk memprediksi Y dengan akurasi yang maksimum dari nilai yang diberikan pada input X."
   ]
  },
  {
   "cell_type": "markdown",
   "metadata": {},
   "source": [
    "# Klasifikasi dan Regresi\n",
    "Terdapat banyak cara untuk mengimplementasikan Supervised Learning. Tetapi bardasarkan dataset yang diberikan, para ahli mengelompokkan masalah *machine learning* ini ke dalam dua jenis yaitu Klasifikasi dan Regresi."
   ]
  },
  {
   "cell_type": "markdown",
   "metadata": {},
   "source": [
    "## Masalah Klasifikasi\n",
    "Permasalahan klasifikasi akan muncul jika data yang diberikan memiliki nilai input *(training)* dan nilai output *(target).*<br>\n",
    "Contoh masalah klasifikasi:\n",
    "* Permasalahan sederhana menggolongkan sebuah gambar, ke dalam kategori gambar kucing atau gambar anjing.\n",
    "* Mengkategorikan sebuah email yang masuk sebagai spam atau bukan spam.\n",
    "* Seorang peneliti medis yang ingin menganalisis data kanker seorang pasien untuk memprediksi jenis *treatment* perawatan khusus yang harus diterimanya. Ada tiga jenis *treatment* yang harus dipilih yaitu *treatment* A, *treatment* B atau *treatment* C.\n",
    "\n",
    "Beberapa metode yang biasa digunakan dalam permasalahan klasifikasi tersebut:\n",
    "* K-Nearest Neighbor\n",
    "* Decision Trees\n",
    "* Naive Bayes\n",
    "* Support Vector Machines"
   ]
  },
  {
   "cell_type": "markdown",
   "metadata": {},
   "source": [
    "## Masalah Regresi\n",
    "Regresi biasanya diistilahkan sebagai penentuan hubungan antara dua atau lebih variabel. Jika dataset memiliki nilai numerik yang terus menerus dari atribut tanpa label target, maka itu berada di bawah masalah Regresi.\n",
    "\n",
    "Berikut adalah contoh beberapa permasalahan yang diselesaikan dengan regresi:\n",
    "* Seseorang ingin menjual rumahnya. Berapa harga jual rumah tersebut?\n",
    "* Memprediksi penghasilan seseorang, berdasarkan masa kerja orang tersebut.\n",
    "\n",
    "Beberapa metode yang biasa digunakan dalam permasalahan regresi\n",
    "* Regresi Linear\n",
    "* Regresi Logistic\n",
    "* Regresi Polynominal"
   ]
  },
  {
   "cell_type": "markdown",
   "metadata": {},
   "source": [
    "## Evaluasi Model\n",
    "Evaluasi merupakan hal yang penting untuk mengetahui keberhasilan sebuah model. Evaluasi model klasifikasi berbeda dengan regresi.\n",
    "\n",
    "Model klasifikasi diukur dengan menggunakan nilai akurasi\n",
    "\n",
    "**akurasi = correct pred / total pred * 100**\n",
    "\n",
    "dimana:\n",
    "* **Correct pred**, adalah jumlah perdiksi yang benar dilakukan.\n",
    "* **Total pred**, adalah jumlah keseluruhan prediksi.\n",
    "\n",
    "Sedangkan model Regression dapat dievaluasi dengan menggunakan *Root Mean Squared Error* (RMSE)\n",
    "\n",
    "**RMSE = sqrt(average(error^2))**\n",
    "\n",
    "RMSE adalah metode alternatif untuk mengevaluasi teknik peramalan. RMSE menghitung nilai rata-rata dari jumlah kuadrat kesalahan, sehingga dapat menyatakan ukuran besarnya kesalahan yang dihasilkan oleh suatu model."
   ]
  },
  {
   "cell_type": "markdown",
   "metadata": {},
   "source": [
    "# KNN Clasiffier\n",
    "## Tentang K-Nearest Neighbor (KNN)\n",
    "Algoritma KNN merupakan salah satu algoritma yang digunakan untuk melakukan klasifikasi suatu data berdasarkan atribut dan sampel-sampel dari data training. Algoritma KNN menggunakan *neighborhood classification* sebagai nilai prediksi dari instance yang baru.\n",
    "\n",
    "Klasifikasi instance yang baru dilakukan berdasarkan mayoritar dari kategori K-tetangga terdekat (*nearest neighbors*). Sedangkan jauh dekatnya tetangga biasanya dihitung berdasarkan jarak *euclidean (d)* atau formula untuk mencari jarak antara 2 titik dalam ruang dua dimensi sebagai berikut.\n",
    "\n",
    "![Euclidean](2d_euclidean_distance_illustration.png)\n",
    "\n",
    "Algoritma KNN bekerja berdasarkan jarak minimum dari data baru ke data training untuk menentukan sejumlah K tetangga terdekat. Nilai K terbaik tergantung pada data. Untuk mendapatkan nilai K yang baik dapat dilakukan optimasi parameter. Secara umum, nilai K yang tinggi akan mengurangi efek *noise* pada klasifikasi, tetapi membuat batasan antara setiap klasifikasi menjadi lebih kabur. Tahap selanjutnya akan diperoleh nilai mayoritas sebagai hasil prediksi dari data yang baru tersebut. Data berisi banyak atribut (X1, X2, X3, ..., Xn) dan dapat digunakan untuk mengklasifikasikan atribut target Y.\n",
    "\n",
    "Secara lebih rinci, berikut adalah langkah-langkah dari algoritma KNN:\n",
    "* Menentukan parameter K, bilangan bulat positif sebegai *nearest neighbors* (banyaknya tetangga terdekat).\n",
    "* Hitung jarak antara data baru dan semua data yang ada di data training.\n",
    "* Menentukan tetangga terdekat berdasarkan jarak minimum ke-K.\n",
    "* Menggunakan kategori yang memiliki frekuensi terbanyak dari tetangga yang terdekat, sebagai nilai prediksi atau hasil klasifikasi dari data yang baru."
   ]
  },
  {
   "cell_type": "markdown",
   "metadata": {},
   "source": [
    "## Studi Kasus\n",
    "Bunga Iris (*iris tectorum*) adalah salah satu jenis bunga hias yang cukup populer dan berasal dari Jepang. Bunga ini sering juga disebut Bunga Pelangi, dianggap memberikan arti kesetiaan, kebijaksanaan, persahabatan, dan harapan. Dalam bahasa inggris bunga ini termasuk bunga \"*perennial*\" yang artinya salah-satu bunga yang dapat hidup lebih dari 2 tahun. Salah satu keistimewaan lain dari bunga ini adalah dapat tumbuh di dua tempat, baik di darat maupun di air.\n",
    "\n",
    "![Bunga-Iris](iris.png)\n",
    "\n",
    "Di dunia terdapat lebih dari 200 jenis tumbuhan ini dan bunganya pun bermacam-macam warnanya. Ada yang berwarna biru-keunguan, kuning, merah-muda, dan lain sebagainya. Dengan banyaknya jenis dan variasi dari bunga ini, maka dibutuhkan metode yang tepat untuk pengelompokkan bunga-bunga tersebut sesuai dengan spesied yang seharusnya."
   ]
  },
  {
   "cell_type": "markdown",
   "metadata": {},
   "source": [
    "## Pemahaman Dataset\n",
    "Studi kasus ini akan menggunakan dataset Iris yang sudah disediakan pada library **sklearn** pada Python. Dataset Iris juga sering disebut sebagai dataset *hello world* atau dataset *sejuta umat* dari machine learning karena paling sering digunakan untuk latihan studi kasus. Selain sudah tersedia pada library sklearni, dataset ini juga bisa diambil dari website penyedia dataset *UC Irvine Machine Learning Repository* atau UCI Machine Learning, yaitu bisa diunduh pada halaman web http://archive.ics.uci.edu.\n",
    "\n",
    "Dataset Iris dikumpulkan oleh ahli botani Anderson dan berisi sampel acak bunga milik tiga spesies bunga iris, yaitu setosa, versicolor, dan virginica. Untuk masing-masing spesies, 50 pengamatan untuk panjang sepal, lebar sepal, panjang petal, dan lebar petal dicatat.\n",
    "\n",
    "![iris-data-set](Iris-Data-Set.jpg)\n",
    "\n",
    "Summary Statistics:\n",
    "\n",
    "| Iris\t        | Min | Max |  Mean  |  SD  | Class Correlation |\n",
    "|---------------|-----|-----|--------|------|-------------------|\n",
    "|  sepal length:| 4.3 | 7.9 |  5.84  | 0.83 |   0.7826          |\n",
    "|   sepal width:| 2.0 | 4.4 |  3.05  | 0.43 |  -0.4194          |\n",
    "|  petal length:| 1.0 | 6.9 |  3.76  | 1.76 |   0.9490  (high!) |\n",
    "|   petal width:| 0.1 | 2.5 |  1.20  | 0.76 |   0.9565  (high!) |\n",
    "\n",
    "Dari deskripsi di atas nampak bahwa atribut dataset ini adalah panjang dan lebar sepal serta panjang dan lebar petal. Sepal dan petal adalah bagian dari perhiasan bunga. Sepal disebut juga daun kelopak, merupakan daun perhiasan bunga yang paling pangkal, berkelompok membentuk kelopak bunga (*calyx*).\n",
    "\n",
    "Sedangkan *petal* disebut juga daun mahkota yang mengelompok membentuj mahkota bunga (*corolla*)."
   ]
  },
  {
   "cell_type": "markdown",
   "metadata": {},
   "source": [
    "## Pembuatan Kode Python\n",
    "### 1. Memanggil library yang dibutuhkan.\n",
    "Library yang digunakan pada kasus ini\n",
    "* Pandas, yaitu library yang digunakan untuk manipulasi data seperti membuat tabel, mengubah dimensi data, mengecek data, dan sebagainya.\n",
    "* Matplotlib, yaitu library yang digunakan untuk membuat grafik plot sesuai kebutuhan.\n",
    "* Sklearn, adalah library untuk berbagai metode dan algoritma yang digunakan dalam *machine learning.*"
   ]
  },
  {
   "cell_type": "code",
   "execution_count": 1,
   "metadata": {},
   "outputs": [],
   "source": [
    "# Memanggil pandas untuk manipulasi data\n",
    "import pandas as pd\n",
    "\n",
    "# Memanggil matplot untuk grafik\n",
    "import matplotlib.pyplot as plt\n",
    "\n",
    "# Memanggil library sklearn untuk import dataset\n",
    "from sklearn import datasets\n",
    "\n",
    "# Memanggil library sklearn untuk KNN Classiifier\n",
    "from sklearn.neighbors import KNeighborsClassifier"
   ]
  },
  {
   "cell_type": "markdown",
   "metadata": {},
   "source": [
    "### 2. Memanggil dataset dari library sklearn."
   ]
  },
  {
   "cell_type": "code",
   "execution_count": 2,
   "metadata": {},
   "outputs": [
    {
     "name": "stdout",
     "output_type": "stream",
     "text": [
      "<class 'sklearn.utils.Bunch'>\n"
     ]
    }
   ],
   "source": [
    "# Memanggil IRIS dataset dari obyek sklearn\n",
    "bunga = datasets.load_iris()\n",
    "\n",
    "# Menampilkan tipe obyek dari bunga\n",
    "print(type(bunga))"
   ]
  },
  {
   "cell_type": "code",
   "execution_count": 3,
   "metadata": {},
   "outputs": [
    {
     "name": "stdout",
     "output_type": "stream",
     "text": [
      "dict_keys(['data', 'target', 'target_names', 'DESCR', 'feature_names', 'filename'])\n"
     ]
    }
   ],
   "source": [
    "# Menampilkan dictionary keys dari data bunga\n",
    "print(bunga.keys())"
   ]
  },
  {
   "cell_type": "code",
   "execution_count": 4,
   "metadata": {},
   "outputs": [
    {
     "name": "stdout",
     "output_type": "stream",
     "text": [
      "<class 'numpy.ndarray'> <class 'numpy.ndarray'>\n"
     ]
    }
   ],
   "source": [
    "# Menampilkan tipe obyek dari atribut yang ada\n",
    "print(type(bunga.data), type(bunga.target))"
   ]
  },
  {
   "cell_type": "code",
   "execution_count": 5,
   "metadata": {},
   "outputs": [
    {
     "name": "stdout",
     "output_type": "stream",
     "text": [
      "(150, 4)\n"
     ]
    }
   ],
   "source": [
    "# Menampilkan jumlah baris dan kolom dari dataset\n",
    "print(bunga.data.shape)"
   ]
  },
  {
   "cell_type": "code",
   "execution_count": 6,
   "metadata": {},
   "outputs": [
    {
     "name": "stdout",
     "output_type": "stream",
     "text": [
      "['setosa' 'versicolor' 'virginica']\n"
     ]
    }
   ],
   "source": [
    "# Menampilkan target set dari data\n",
    "print(bunga.target_names)"
   ]
  },
  {
   "cell_type": "markdown",
   "metadata": {},
   "source": [
    "### 3. Konversi Dataset ke dalam Tipe Dataframe"
   ]
  },
  {
   "cell_type": "code",
   "execution_count": 7,
   "metadata": {},
   "outputs": [
    {
     "name": "stdout",
     "output_type": "stream",
     "text": [
      "   sepal length (cm)  sepal width (cm)  petal length (cm)  petal width (cm)\n",
      "0                5.1               3.5                1.4               0.2\n",
      "1                4.9               3.0                1.4               0.2\n",
      "2                4.7               3.2                1.3               0.2\n",
      "3                4.6               3.1                1.5               0.2\n",
      "4                5.0               3.6                1.4               0.2\n"
     ]
    }
   ],
   "source": [
    "# Memanggil training dataset\n",
    "X = bunga.data\n",
    "\n",
    "# Memanggil target set\n",
    "Y = bunga.target\n",
    "\n",
    "# Melakukan konversi tipe dataset ke dalam tipe dataframe\n",
    "df = pd.DataFrame(X, columns = bunga.feature_names)\n",
    "\n",
    "# Mencetak 5 data pertama dari dataframe\n",
    "print(df.head())"
   ]
  },
  {
   "cell_type": "markdown",
   "metadata": {},
   "source": [
    "### 4. Memanggil KNN Classifier.\n",
    "Memanggil KNN Classifier dari Sklearn dan kemudian melakukan fiting model dengan data training serta target."
   ]
  },
  {
   "cell_type": "code",
   "execution_count": 8,
   "metadata": {},
   "outputs": [
    {
     "data": {
      "text/plain": [
       "KNeighborsClassifier(algorithm='auto', leaf_size=30, metric='euclidean',\n",
       "                     metric_params=None, n_jobs=None, n_neighbors=6, p=2,\n",
       "                     weights='uniform')"
      ]
     },
     "execution_count": 8,
     "metadata": {},
     "output_type": "execute_result"
    }
   ],
   "source": [
    "# Memanggil KNN Classifier\n",
    "knn = KNeighborsClassifier(n_neighbors=6, weights='uniform', algorithm='auto', metric='euclidean')\n",
    "\n",
    "# Fitting model dengan training data and target\n",
    "X_train = bunga['data']\n",
    "y_train = bunga['target']\n",
    "knn.fit(X_train, y_train)"
   ]
  },
  {
   "cell_type": "markdown",
   "metadata": {},
   "source": [
    "### 5. Melakukan Prediksi"
   ]
  },
  {
   "cell_type": "code",
   "execution_count": 9,
   "metadata": {},
   "outputs": [
    {
     "name": "stdout",
     "output_type": "stream",
     "text": [
      "Hasil Prediksi : Jenis bunga [2]\n"
     ]
    }
   ],
   "source": [
    "# Data yang akan diprediksi\n",
    "Data = [[6.2, 1.5, 4.2, 2.6]]\n",
    "\n",
    "# Melakukan prediksi berdasarkan\n",
    "Y_pred = knn.predict(Data)\n",
    "\n",
    "# Mencetak hasil prediksi\n",
    "# Hasil 0 adalah Setosa\n",
    "# Hasil 1 adalah Versicolor\n",
    "# Hasil 2 adalah Virginica\n",
    "print(\"Hasil Prediksi : Jenis bunga\", Y_pred)"
   ]
  },
  {
   "cell_type": "markdown",
   "metadata": {},
   "source": [
    "Contoh di atas menunkukkan prediksi dari data bunga dengan input\n",
    "* Panjang sepal : 6.2 cm\n",
    "* Lebar sepal   : 1.5 cm\n",
    "* Panjang petal : 4.2 cm\n",
    "* Lebar petal   : 2.6 cm\n",
    "\n",
    "Hasil Prediksi menunjukkan bahwa jenis bunga dengan kondisi tersebut adalah [2] atau versicolor.<br>\n",
    "Kita juga bisa memprediksi secara langsung beberapa buah bunga masuk ke dalam array atau list."
   ]
  },
  {
   "cell_type": "code",
   "execution_count": 10,
   "metadata": {},
   "outputs": [
    {
     "name": "stdout",
     "output_type": "stream",
     "text": [
      "Hasil Prediksi : Jenis Bunga  [2 2 1]\n"
     ]
    }
   ],
   "source": [
    "# Data yang akan diprediksi\n",
    "Data = [[6.2, 1.5, 4.2, 2.6],\n",
    "        [4.4, 1.2, 2.7, 7.5],\n",
    "        [6.4, 2.5, 4.7, 1.5]\n",
    "       ]\n",
    "Y_pred = knn.predict(Data)\n",
    "print(\"Hasil Prediksi : Jenis Bunga \", Y_pred)"
   ]
  },
  {
   "cell_type": "markdown",
   "metadata": {},
   "source": [
    "## Contoh Visualisasi Klasifikasi\n",
    "Kode program di bawah ini memberikan contoh visualisasi klasifikasi bunga iris menggunakan KNN (modifikasi dari Pedregosa *et al.,* 2011)"
   ]
  },
  {
   "cell_type": "code",
   "execution_count": 11,
   "metadata": {},
   "outputs": [
    {
     "data": {
      "image/png": "[encoded data removed]",
      "text/plain": [
       "<Figure size 432x288 with 1 Axes>"
      ]
     },
     "metadata": {
      "needs_background": "light"
     },
     "output_type": "display_data"
    }
   ],
   "source": [
    "# Memanggil library\n",
    "import numpy as np\n",
    "import matplotlib.pyplot as plt\n",
    "from matplotlib.colors import ListedColormap\n",
    "from sklearn import neighbors, datasets\n",
    "\n",
    "# Memanggil dataset\n",
    "bunga = datasets.load_iris()\n",
    "\n",
    "# Slicing menggunakan dataset 2 dimensi\n",
    "X = bunga.data[:, :2]\n",
    "y = bunga.target\n",
    "\n",
    "# Ukuran tampilan mesh pada grafik\n",
    "h = .02\n",
    "\n",
    "# Mengatur warna\n",
    "cmap_light = ListedColormap(['#FFAAAA', '#AAFFAA', '#AAAAFF'])\n",
    "cmap_bold = ListedColormap(['#FF0000', '#00FF00', '#0000FF'])\n",
    "\n",
    "# Memanggil KNN dan fiting data.\n",
    "knn = neighbors.KNeighborsClassifier(n_neighbors=6, weights='uniform')\n",
    "\n",
    "knn.fit(X, y)\n",
    "\n",
    "# Plot the decision boundary.\n",
    "x_min, x_max = X[:, 0].min() -1, X[:, 0].max() +1\n",
    "y_min, y_max = X[:, 1].min() -1, X[:, 1].max() +1\n",
    "xx, yy = np.meshgrid(np.arange(x_min, x_max, h), np.arange(y_min, y_max, h))\n",
    "\n",
    "Z = knn.predict(np.c_[xx.ravel(), yy.ravel()])\n",
    "\n",
    "# Memasukkan hasil ke dalam color plot\n",
    "Z = Z.reshape(xx.shape)\n",
    "plt.figure()\n",
    "plt.pcolormesh(xx, yy, Z, cmap=cmap_light)\n",
    "\n",
    "# Plot training points\n",
    "plt.scatter(X[:, 0], X[:, 1], c=y, cmap=cmap_bold, edgecolors='k', s=20)\n",
    "plt.xlim(xx.min(), xx.max())\n",
    "plt.ylim(yy.min(), yy.max())\n",
    "plt.title(\"Klasifikasi Bunga Iris\")\n",
    "\n",
    "# Menampilkan plot\n",
    "plt.show()"
   ]
  },
  {
   "cell_type": "markdown",
   "metadata": {},
   "source": [
    "# Studi Kasus Naive Bayes Clasifier\n",
    "## Tentang Algoritma Naive Bayes \n",
    "Naive Bayes Clasifier merupakan sebuah metoda klasifikasi yang merupakan turunan dari teorema Bayes. Teorema Bayes merupakan teori perhitungan probabilitas bersyarat (*posterior*) yaitu perhitungan peluang suatu kejadian X bila diketahui adanya kejadian H atau P(X|Y).\n",
    "\n",
    "![Probabilitas-Bersyarat](probabilitas-bersyarat.jpg)\n",
    "\n",
    "Gambar di atas menunjukkan bahwa probabilitas X di dalam Y adalah probabilitas interseksi X dan Y dari probabilitas Y, atau dengan bahasa lain P(X|Y) adalah prosentase banyaknya X di dalam Y.\n",
    "\n",
    "![Metode-Bayes](metode-bayes.jpg)\n",
    "\n",
    "Metode bayes seperti yang dapat dilihat pada gambar menunjukkan bahwa keadaan *posteriror* (Probabilitas Xk di dalam Y) dapat dihitung dari keadaan *prior* (Probabilitas Y di dalam Xk dibagi dengan jumlah dari semua probabilitas Y di dalam semua Xi).\n",
    "\n",
    "Metode bayes disederhanakan dalam suatu bentuk yang akan digunakan dalam studi kasus ini, yaitu *Naive Bayes* (NB). Algoritma NB berasumsi bahwa efek suatu nilai variabel di sebuah kelas yang ditentukan adalah tidak terikat pada nilai-nilai variabel lain. Asumsi ini disebut kelas kondisi bebas/tidak terikat. Itu dibuat untuk menyederhanakan perhitungan dan dalam hal ini dianggap sebagai \"Naive\" (Basuki, 2006).\n",
    "\n",
    "Algoritma Naive Bayes memungkinkan secara cepat membuat model yang mempunyai kemampuan untuk prediksi dan juga menyediakan sebuah method baru dalam mengeksplorasi dan mengerti data (Rokach, 2008). Bayes menyediakan metode yang digunakan untuk pembelajaran berdasarkan bukti (*evidence*) yang ada. Algoritmanya mempelajari bukti yang ada dnegan menghitung korelasi diantara variabel yang diinginkan dan semua variabel yang lain.\n",
    "\n",
    "Naive bayes tersebut dinyatakan sebagai sebuah hipotesa yang disebut dengan HMAP (*Hypothesis Maximum Appriori Probability*). Misalnya terdapat beberapa alternatif hipotesa h Artinya bahwa di dalam Naive Bayes akan dicari hipotesa yang paling mungkin, h, atau maksimum apriori (MAP), jika diberi data x. Secara matematis ini bisa dirumuskan sebagai berikut (Susanto, 2007):\n",
    "\n",
    "![hmap](h-map.jpg)\n",
    "\n",
    "Dalam konteks *machine learning,* data x adalah set training, sedangkan y adalah ruang dimensi fungsi yang akan ditemukan tersebut terletak. Dengan demikian, HMAP juga seringkali dituliskan sebagai berikut.\n",
    "\n",
    "![hmap](h-map2.jpg)\n",
    "\n",
    "HMAP menyatakan hipotesa yang diambil berdasarkan nilai probabilitas berdasarkan kondisi prior yang diketahui. HMAP inilah yang digunakan di dalam machine learning sebagai metode untuk mendapatkan hipotesis untuk suatu keputusan. Satu hal yang perlu dicatat adalah bahwa metode Bayes hanya bisa digunakan untuk persoalan klasifikasi dengan supervised learning. Metode Bayes memerlukan pengetahuan awal untuk dapat mengambil suatu keputusan. Tingkat keberhasilan metode ini sangat tergantung pada pengetahuan awal yang diberikan."
   ]
  },
  {
   "cell_type": "markdown",
   "metadata": {},
   "source": [
    "## Studi Kasus\n",
    "Studi kasus pada bagian ini masih akan menggunakan dataset IRIS seperti yang telah digunakan dalam kasus sebelumnya. Dengan banayaknya jenis dan variasi dari bunga ini, maka dibutuhkan metode yang tepat untuk pengelompokan bunga-bunga tersebut sesuai dengan spesies yang seharusnya. Dan metode yang akan digunakan pada studi kasus ini adalah metode Naive Bayes.\n",
    "\n",
    "## Pembuatan Kode Program\n",
    "### 1. Memanggil library yang dibutuhkan."
   ]
  },
  {
   "cell_type": "code",
   "execution_count": 12,
   "metadata": {},
   "outputs": [],
   "source": [
    "from sklearn import datasets\n",
    "from sklearn.naive_bayes import GaussianNB\n",
    "from sklearn.model_selection import train_test_split # sklearn.cross_validation\n",
    "from sklearn.metrics import accuracy_score\n",
    "from sklearn.metrics import classification_report\n",
    "import pandas as pd"
   ]
  },
  {
   "cell_type": "markdown",
   "metadata": {},
   "source": [
    "### 2. Memanggil dataset dari library sklearn."
   ]
  },
  {
   "cell_type": "code",
   "execution_count": 13,
   "metadata": {},
   "outputs": [
    {
     "name": "stdout",
     "output_type": "stream",
     "text": [
      "   sepal length (cm)  sepal width (cm)  petal length (cm)  petal width (cm)\n",
      "0                5.1               3.5                1.4               0.2\n",
      "1                4.9               3.0                1.4               0.2\n",
      "2                4.7               3.2                1.3               0.2\n",
      "3                4.6               3.1                1.5               0.2\n",
      "4                5.0               3.6                1.4               0.2\n"
     ]
    }
   ],
   "source": [
    "# Load Dataset\n",
    "bunga = datasets.load_iris()\n",
    "\n",
    "# Training dataset\n",
    "X = bunga.data\n",
    "# Target dataset\n",
    "y = bunga.target\n",
    "\n",
    "# Mencetak 5 data pertama dari dataframe\n",
    "df = pd.DataFrame(X, columns=bunga.feature_names)\n",
    "print(df.head())"
   ]
  },
  {
   "cell_type": "code",
   "execution_count": 14,
   "metadata": {},
   "outputs": [
    {
     "name": "stdout",
     "output_type": "stream",
     "text": [
      "(150, 4)\n"
     ]
    }
   ],
   "source": [
    "# Menampilkan jumlah baris dan kolom dari dataset\n",
    "print(bunga.data.shape)"
   ]
  },
  {
   "cell_type": "code",
   "execution_count": 15,
   "metadata": {},
   "outputs": [
    {
     "name": "stdout",
     "output_type": "stream",
     "text": [
      "['setosa' 'versicolor' 'virginica']\n"
     ]
    }
   ],
   "source": [
    "# Menampilkan target set dari data\n",
    "print(bunga.target_names)"
   ]
  },
  {
   "cell_type": "markdown",
   "metadata": {},
   "source": [
    "### Memilah Data Training dan Testing\n",
    "dataset perlu dilakukan pemisahan data training dan data testing"
   ]
  },
  {
   "cell_type": "code",
   "execution_count": 16,
   "metadata": {},
   "outputs": [],
   "source": [
    "# Split train dan test data\n",
    "X_train, X_test, y_train, y_test = train_test_split(X, y)"
   ]
  },
  {
   "cell_type": "markdown",
   "metadata": {},
   "source": [
    "### Memanggil Naive Bayes Classifier\n",
    "memanggil Naive Bayes Classifier dari Sklearn dan kemudian melakukan fiting model dengan data training serta target."
   ]
  },
  {
   "cell_type": "code",
   "execution_count": 17,
   "metadata": {},
   "outputs": [
    {
     "data": {
      "text/plain": [
       "GaussianNB(priors=None, var_smoothing=1e-09)"
      ]
     },
     "execution_count": 17,
     "metadata": {},
     "output_type": "execute_result"
    }
   ],
   "source": [
    "# Mengaktifkan Gaussian Naive Bayes\n",
    "gnb = GaussianNB()\n",
    "gnb.fit(bunga.data, bunga.target)"
   ]
  },
  {
   "cell_type": "markdown",
   "metadata": {},
   "source": [
    "### Melakukan Prediksi pada Data Training."
   ]
  },
  {
   "cell_type": "code",
   "execution_count": 18,
   "metadata": {},
   "outputs": [
    {
     "data": {
      "text/plain": [
       "array([0, 0, 0, 0, 0, 0, 0, 0, 0, 0, 0, 0, 0, 0, 0, 0, 0, 0, 0, 0, 0, 0,\n",
       "       0, 0, 0, 0, 0, 0, 0, 0, 0, 0, 0, 0, 0, 0, 0, 0, 0, 0, 0, 0, 0, 0,\n",
       "       0, 0, 0, 0, 0, 0, 1, 1, 2, 1, 1, 1, 1, 1, 1, 1, 1, 1, 1, 1, 1, 1,\n",
       "       1, 1, 1, 1, 2, 1, 1, 1, 1, 1, 1, 2, 1, 1, 1, 1, 1, 1, 1, 1, 1, 1,\n",
       "       1, 1, 1, 1, 1, 1, 1, 1, 1, 1, 1, 1, 2, 2, 2, 2, 2, 2, 1, 2, 2, 2,\n",
       "       2, 2, 2, 2, 2, 2, 2, 2, 2, 1, 2, 2, 2, 2, 2, 2, 2, 2, 2, 2, 2, 2,\n",
       "       2, 1, 2, 2, 2, 2, 2, 2, 2, 2, 2, 2, 2, 2, 2, 2, 2, 2])"
      ]
     },
     "execution_count": 18,
     "metadata": {},
     "output_type": "execute_result"
    }
   ],
   "source": [
    "gnb.predict(bunga.data)"
   ]
  },
  {
   "cell_type": "markdown",
   "metadata": {},
   "source": [
    "### Melakukan Prediksi pada Data Input."
   ]
  },
  {
   "cell_type": "code",
   "execution_count": 19,
   "metadata": {},
   "outputs": [
    {
     "name": "stdout",
     "output_type": "stream",
     "text": [
      "Hasil Prediksi : Jenis bunga  [2]\n"
     ]
    }
   ],
   "source": [
    "# Data yang akan diprediksi\n",
    "Data = [[6.2, 1.5, 4.2, 2.6]]\n",
    "\n",
    "# Melakukan prediksi berdasarkan\n",
    "Y_pred = gnb.predict(Data)\n",
    "\n",
    "# Mencetak hasil prediksi\n",
    "# Hasil 0 adalah Setosa\n",
    "# Hasil 1 adalah Versicolor\n",
    "# Hasil 2 adalah Virginica\n",
    "print(\"Hasil Prediksi : Jenis bunga \", Y_pred)"
   ]
  },
  {
   "cell_type": "markdown",
   "metadata": {},
   "source": [
    "Contoh di atas menunjukkan prediksi dari data bunga dengan input\n",
    "* Panjang sepal : 6.2 cm.\n",
    "* Lebar sepal   : 1.5 cm.\n",
    "* Panjang petal : 4.2 cm.\n",
    "* Lebar petal   : 2.6 cm.\n",
    "Hasil Prediksi menunjukkan bahwa jenis bunga dengan kondisi tersebut adalah [2] atau versicolor."
   ]
  },
  {
   "cell_type": "markdown",
   "metadata": {},
   "source": [
    "### Menghitung Akurasi\n",
    "menghitung nilai akurasi dari model prediksi yang telah dibuat."
   ]
  },
  {
   "cell_type": "code",
   "execution_count": 20,
   "metadata": {},
   "outputs": [
    {
     "name": "stdout",
     "output_type": "stream",
     "text": [
      "Accuracy = 0.97\n",
      "              precision    recall  f1-score   support\n",
      "\n",
      "           0       1.00      1.00      1.00         9\n",
      "           1       1.00      0.94      0.97        17\n",
      "           2       0.92      1.00      0.96        12\n",
      "\n",
      "    accuracy                           0.97        38\n",
      "   macro avg       0.97      0.98      0.98        38\n",
      "weighted avg       0.98      0.97      0.97        38\n",
      "\n"
     ]
    }
   ],
   "source": [
    "# Melihat Skor akurasi\n",
    "print(\"Accuracy = %0.2f\" % accuracy_score(y_test, gnb.predict(X_test)))\n",
    "\n",
    "# Mencetak Laporan Klasifikasi\n",
    "print(classification_report(y_test, gnb.predict(X_test)))"
   ]
  },
  {
   "cell_type": "markdown",
   "metadata": {},
   "source": [
    "Dari perhitungan akurasi di atas dapat dilihat bahwa skor akurasi model dengan Naive Bayes ini adalah 0.97 atau 97%."
   ]
  },
  {
   "cell_type": "code",
   "execution_count": null,
   "metadata": {},
   "outputs": [],
   "source": []
  }
 ],
 "metadata": {
  "kernelspec": {
   "display_name": "Python 3",
   "language": "python",
   "name": "python3"
  },
  "language_info": {
   "codemirror_mode": {
    "name": "ipython",
    "version": 3
   },
   "file_extension": ".py",
   "mimetype": "text/x-python",
   "name": "python",
   "nbconvert_exporter": "python",
   "pygments_lexer": "ipython3",
   "version": "3.7.3"
  }
 },
 "nbformat": 4,
 "nbformat_minor": 2
}
