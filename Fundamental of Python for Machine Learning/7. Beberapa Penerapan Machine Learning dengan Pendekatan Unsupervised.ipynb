{
 "cells": [
  {
   "cell_type": "markdown",
   "metadata": {},
   "source": [
    "# Pendekatan Unsupervised Learning\n",
    "Teknik ini melakukan pembelajaran mesin tanpa menggunakan data latih. Jadi sistem mempelajari *unlabeled data* dan mengelompokkannya berdasarkan fitur-fitur dari data tersebut.\n",
    "\n",
    "Algoritma unsupervised learning bertujuan untuk mengelompokkan objek yang hampir sama dalam suatu ares tertentu. Sebagai contoh, jika kita ingin mengelompokkan karakteristik customer sebuah perusahaan berdasarkan kemiripan sifat dalam hal usia, pendidikan dan hobi. Untuk mengelompokkan customer berdasarkan kemiripan sifat tersebut tentunya tidak diperlukan data latih terlebih dahulu. Beberapa algoritma yang dapat digunakan dalam *unsupervised learning* adalah metode *hierarchical clustering,* K-Means, DBSCAN, Fuzzy C-Means, Self-Organizing Map, dan lain sebagainya. Khusus untuk studi kasus pada kali ini akan mencoba menerapkan K-Means, DBSCAN dan Fuzzy C-Means."
   ]
  },
  {
   "cell_type": "markdown",
   "metadata": {},
   "source": [
    "# K-Means\n",
    "## Tentang Algoritma K-Means\n",
    "Algoritma K-Means merupakan salah satu jenis clustering. Clustering merupakan sebuah proses mengelompokkan data ke dalam beberapa cluster atau kelompok, dimana masing-masing kelompok memiliki tingkatan kemiripan maksimum.\n",
    "\n",
    "Seperti algoritma *unsupervised* lainnya, algoritma K-means menerima masukan berupa data tanpa label kelas. Algoritma K-Means mengelompokkan data-data ke dalam k kelompok, dimana kelompok tersebut dibentuk dengan meminimalkan jumlah dari *euclidean distances* diantara data dengan titik pusat (*centroid*) yang merepresentasikan *cluster* atau kelompok tersebut.\n",
    "\n",
    "Menurut Tan et al. (2005), berikut tahapan-tahapan dalam algoritma K-Means clustering:\n",
    "1. Menentukan jumlah *cluster* K dari dataset yang akan dibagi.\n",
    "2. Menentukan data k yang menjadi titik pusat atau *centroid* awal lokasi klaster\n",
    "3. Mengelompokkan data ke dalam K *cluster* sesuai dengan titik centroid terdekat yang telah ditentukan sebelumnya\n",
    "4. Memperbarui nilai titik centroid dan mengulangi langkah 3 sampai nilai dari titik centroid tersebut tidak berubah.\n",
    "\n",
    "Sesuai dengan langkah di atas, maka pengelompokkan data dilakukan dengan cara menghitung jarak terdekat data ke *centroid* sehingga akhirnya membentuk sebuah cluster. Berikut adalah formula yang digunakan untuk menghitung jarak tersebut (Maimon et al. (2005):\n",
    "\n",
    "![menghitung-jarak.jpg](menghitung-jarak.jpg)\n",
    "\n",
    "Dimana:<br>\n",
    "$g = 1 $, untuk menghitung jarak Manhattan<br>\n",
    "$g = 2 $, untuk menghitung jarak Euclidean<br>\n",
    "$ x _i, x _j $ adalah dua buah data yang akan dihitung jaraknya<br>\n",
    "$p = $ dimensi dari sebuah data\n",
    "\n",
    "Selanjutnya pembaharuan suatu titik centroid dapat dilakukan dengan formula berikut:\n",
    "\n",
    "$ \\mu _k = \\frac{1}{N _k} \\sum \\limits _{q=1} ^{N _k} xq $\n",
    "\n",
    "Dimana :\n",
    "\n",
    "$ \\mu _k = $ titik *centroid* dari cluster ke-K<br>\n",
    "$ N _k = $ banyaknya data pada cluster ke-K<br>\n",
    "$ X _q = $ data ke-q pada cluster ke-K\n",
    "\n",
    "Secara umum, K-means memiliki beberapa kelebihan seperti mudah diimplementasikan, efisiensi waktu pembelajaran serta mudah untuk diadaptasi. Tetapi metode ini juga memiliki beberapa kekurangann seperti masalah *curse of dimensionality* yang dapat terjadi jika data pelatihan memiliki dimensi yang sangat tinggi."
   ]
  },
  {
   "cell_type": "markdown",
   "metadata": {},
   "source": [
    "## Studi Kasus\n",
    "Sebuah perusahaan melakukan penelitian terhadap data-data konsumen yang dimilikinya. Perusahaan tersebut akan melakukan pengelompokkan data ke dalam beberapa *cluster* berdasarkan kriteria besaran gaji yang diterima dan pengeluaran per bulannya.\n",
    "\n",
    "Studi kasus kali ini akan melakukan clustering terhadap data-data konsumen ke dalam beberapa kelomoik, dimana masing-masing kelompok memiliki tingkat kemiripan maksimum. Tujuan penelitian ini adalah agar perusahaan dapat memetakan jenis produk yang sesuai dengan karakteristik konsumen.\n",
    "\n",
    "## Kode Program\n",
    "### 1. Memanggil library yang dibutuhkan.\n",
    "* Matplotlib, yaitu library yang digunakan untuk membuat grafik plot sesuai kebutuhan.\n",
    "* NumPy, digunakan untuk kebutuhan scientific.\n",
    "* Pandas, yaitu library yang digunakan untuk manipulasi data seperti membuat tabel, mengubah dimensi data, mengecek data dan sebagainya.\n",
    "* Sklearn, adalah library untuk berbagai metode dan algoritma yang digunakan dalam *machine learning.*"
   ]
  },
  {
   "cell_type": "code",
   "execution_count": 1,
   "metadata": {},
   "outputs": [],
   "source": [
    "# Import library yang akan digunakan\n",
    "%matplotlib inline\n",
    "import matplotlib.pyplot as plt\n",
    "import numpy as np\n",
    "import pandas as pd\n",
    "from sklearn.cluster import KMeans"
   ]
  },
  {
   "cell_type": "markdown",
   "metadata": {},
   "source": [
    "### 2. Memanggil dataset.\n"
   ]
  },
  {
   "cell_type": "code",
   "execution_count": 2,
   "metadata": {},
   "outputs": [
    {
     "data": {
      "text/plain": [
       "Index(['No', 'Gaji', 'Pengeluaran'], dtype='object')"
      ]
     },
     "execution_count": 2,
     "metadata": {},
     "output_type": "execute_result"
    }
   ],
   "source": [
    "# Menyiapkan data dan memanggil dataset\n",
    "dataset = pd.read_csv('konsumen.csv', sep=';')\n",
    "dataset.keys()"
   ]
  },
  {
   "cell_type": "code",
   "execution_count": 3,
   "metadata": {},
   "outputs": [
    {
     "data": {
      "text/html": [
       "<div>\n",
       "<style scoped>\n",
       "    .dataframe tbody tr th:only-of-type {\n",
       "        vertical-align: middle;\n",
       "    }\n",
       "\n",
       "    .dataframe tbody tr th {\n",
       "        vertical-align: top;\n",
       "    }\n",
       "\n",
       "    .dataframe thead th {\n",
       "        text-align: right;\n",
       "    }\n",
       "</style>\n",
       "<table border=\"1\" class=\"dataframe\">\n",
       "  <thead>\n",
       "    <tr style=\"text-align: right;\">\n",
       "      <th></th>\n",
       "      <th>Gaji</th>\n",
       "      <th>Pengeluaran</th>\n",
       "    </tr>\n",
       "  </thead>\n",
       "  <tbody>\n",
       "    <tr>\n",
       "      <th>0</th>\n",
       "      <td>2500</td>\n",
       "      <td>1750</td>\n",
       "    </tr>\n",
       "    <tr>\n",
       "      <th>1</th>\n",
       "      <td>3800</td>\n",
       "      <td>4200</td>\n",
       "    </tr>\n",
       "    <tr>\n",
       "      <th>2</th>\n",
       "      <td>3900</td>\n",
       "      <td>3800</td>\n",
       "    </tr>\n",
       "    <tr>\n",
       "      <th>3</th>\n",
       "      <td>4350</td>\n",
       "      <td>5500</td>\n",
       "    </tr>\n",
       "    <tr>\n",
       "      <th>4</th>\n",
       "      <td>4400</td>\n",
       "      <td>3200</td>\n",
       "    </tr>\n",
       "  </tbody>\n",
       "</table>\n",
       "</div>"
      ],
      "text/plain": [
       "   Gaji  Pengeluaran\n",
       "0  2500         1750\n",
       "1  3800         4200\n",
       "2  3900         3800\n",
       "3  4350         5500\n",
       "4  4400         3200"
      ]
     },
     "execution_count": 3,
     "metadata": {},
     "output_type": "execute_result"
    }
   ],
   "source": [
    "dataku = pd.DataFrame(dataset)\n",
    "dataku = dataku.drop(columns=['No'])\n",
    "dataku.head()"
   ]
  },
  {
   "cell_type": "markdown",
   "metadata": {},
   "source": [
    "### 3. Konversi Dataset ke Data Array\n",
    "perlu dilakukan konversi dataset ke dalam tipe data *array*"
   ]
  },
  {
   "cell_type": "code",
   "execution_count": 4,
   "metadata": {},
   "outputs": [
    {
     "name": "stdout",
     "output_type": "stream",
     "text": [
      "[[ 2500  1750]\n",
      " [ 3800  4200]\n",
      " [ 3900  3800]\n",
      " [ 4350  5500]\n",
      " [ 4400  3200]\n",
      " [ 5500  5450]\n",
      " [ 5600  5950]\n",
      " [ 5750  4100]\n",
      " [ 6850  6050]\n",
      " [ 6900  8500]\n",
      " [ 7250  9500]\n",
      " [ 7350  6050]\n",
      " [ 7500  8500]\n",
      " [ 7800  9500]\n",
      " [ 8200  8300]\n",
      " [ 8500  6500]\n",
      " [ 8550  8400]\n",
      " [ 8750  6000]\n",
      " [ 9100 10500]\n",
      " [ 9100  8500]]\n"
     ]
    }
   ],
   "source": [
    "# Konversi ke data array\n",
    "X = np.asarray(dataku)\n",
    "print(X)"
   ]
  },
  {
   "cell_type": "markdown",
   "metadata": {},
   "source": [
    "### 4. Menampilkan Data Array ke dalam Scatter Plot"
   ]
  },
  {
   "cell_type": "code",
   "execution_count": 5,
   "metadata": {},
   "outputs": [
    {
     "data": {
      "image/png": "[encoded data removed]",
      "text/plain": [
       "<Figure size 432x288 with 1 Axes>"
      ]
     },
     "metadata": {
      "needs_background": "light"
     },
     "output_type": "display_data"
    }
   ],
   "source": [
    "# Menampilkan data dalam bentuk scatter plot\n",
    "plt.scatter(X[:,0], X[:,1], label='True Position')\n",
    "plt.xlabel(\"Gaji\")\n",
    "plt.ylabel(\"Pengeluaran\")\n",
    "plt.title(\"Grafik Konsumen\")\n",
    "plt.show()"
   ]
  },
  {
   "cell_type": "markdown",
   "metadata": {},
   "source": [
    "### 5. Mengaktifkan K-Means dari Sklearn\n",
    "perlu dilakukan konversi dataset ke dalam tipe *array,* dan kemudian melakukan fiting data"
   ]
  },
  {
   "cell_type": "code",
   "execution_count": 6,
   "metadata": {},
   "outputs": [
    {
     "data": {
      "text/plain": [
       "KMeans(algorithm='auto', copy_x=True, init='k-means++', max_iter=300,\n",
       "       n_clusters=2, n_init=10, n_jobs=None, precompute_distances='auto',\n",
       "       random_state=None, tol=0.0001, verbose=0)"
      ]
     },
     "execution_count": 6,
     "metadata": {},
     "output_type": "execute_result"
    }
   ],
   "source": [
    "# Mengaktifkan K Means dengan jumlah\n",
    "kmeans = KMeans(n_clusters=2)\n",
    "kmeans.fit(X)"
   ]
  },
  {
   "cell_type": "markdown",
   "metadata": {},
   "source": [
    "### 6. Menampilkan nilai Centroid\n",
    "Perintah di bawah ini digunakan untuk menampilkan nilai *centroid* atau titik pusat klaster yang di *generate* oleh algoritma."
   ]
  },
  {
   "cell_type": "code",
   "execution_count": 7,
   "metadata": {},
   "outputs": [
    {
     "name": "stdout",
     "output_type": "stream",
     "text": [
      "[[4475.   4243.75]\n",
      " [7987.5  8025.  ]]\n"
     ]
    }
   ],
   "source": [
    "# Menampilkan nilai centroid yang di generate oleh algorithm\n",
    "print(kmeans.cluster_centers_)"
   ]
  },
  {
   "cell_type": "markdown",
   "metadata": {},
   "source": [
    "Bisa juga menampilkan output dari algoritma, yaitu label dari data point hasil *clustering*"
   ]
  },
  {
   "cell_type": "code",
   "execution_count": 8,
   "metadata": {},
   "outputs": [
    {
     "name": "stdout",
     "output_type": "stream",
     "text": [
      "[0 0 0 0 0 0 0 0 1 1 1 1 1 1 1 1 1 1 1 1]\n"
     ]
    }
   ],
   "source": [
    "# Menampilkan label data point\n",
    "print(kmeans.labels_)"
   ]
  },
  {
   "cell_type": "markdown",
   "metadata": {},
   "source": [
    "### 7. Visualisasi Hasil\n",
    "menampilkan scatter plot dari data-data setela dilakukan klasterisasi oleh algoritma."
   ]
  },
  {
   "cell_type": "code",
   "execution_count": 9,
   "metadata": {
    "scrolled": true
   },
   "outputs": [
    {
     "data": {
      "image/png": "[encoded data removed]",
      "text/plain": [
       "<Figure size 432x288 with 1 Axes>"
      ]
     },
     "metadata": {
      "needs_background": "light"
     },
     "output_type": "display_data"
    }
   ],
   "source": [
    "# Plot data point\n",
    "# Memvisualisasikan bagaimana telah di klasterisasi.\n",
    "plt.scatter(X[:,0], X[:,1], c=kmeans.labels_, cmap='rainbow')\n",
    "plt.xlabel(\"Gaji\")\n",
    "plt.ylabel(\"Pengeluaran\")\n",
    "plt.title(\"Grafik Konsumen\")\n",
    "plt.show()"
   ]
  },
  {
   "cell_type": "code",
   "execution_count": 10,
   "metadata": {},
   "outputs": [
    {
     "data": {
      "image/png": "[encoded data removed]",
      "text/plain": [
       "<Figure size 432x288 with 1 Axes>"
      ]
     },
     "metadata": {
      "needs_background": "light"
     },
     "output_type": "display_data"
    }
   ],
   "source": [
    "# Plot data point\n",
    "# Memvisualisasikan bagaimana telah di klasterisasi\n",
    "# Menampilkan centroids dengan warna hitam.\n",
    "plt.scatter(X[:,0], X[:,1], c=kmeans.labels_, cmap='rainbow')\n",
    "plt.scatter(kmeans.cluster_centers_[:,0], kmeans.cluster_centers_[:,1], color='black')\n",
    "plt.xlabel(\"Gaji\")\n",
    "plt.ylabel(\"Pengeluaran\")\n",
    "plt.title(\"Grafik Konsumen\")\n",
    "plt.show()"
   ]
  },
  {
   "cell_type": "markdown",
   "metadata": {},
   "source": [
    "# DBSCAN\n",
    "## Tentang DBSCAN\n",
    "Sama seperti K-Means, Algoritma *Density Based Spatial Clustering of Application with Noise* atau yang biasa disebut DBSCAN juga merupakan salah satu algoritma berbasis *clustering.* Tetapi berbeda dengan K-Means yang melakukan pembentukan klaster dengan perhitungan jarak terdekat dengan centroid, DBSCAN membuat klaster berdasarkan tingkat kerapatan data, maka disebut sebagai *density-based.*\n",
    "\n",
    "Algoritma DBSCAN mengkategorikan daerah yang memiliki kerapatan tinggi menjadi *cluster-cluster* yang ditemukan dalam bentuk bebas dengan memanfaatkan *noise.* Noise sendiri mewakili daerah yang kurang padat yang digunakan untuk memisahkan antara cluster satu dengan cluster lainnya.\n",
    "\n",
    "Berikut adalah langkah-langkah pada algoritma DBSCAN (Devi, 2014).<br>\n",
    "a. Tahap pertama adalah melakukan inisialisai parameter *minpts* dan *eps*.\n",
    "* **MinPts** adalah minimal titik dalam cluster yang ditentukan pengguna.\n",
    "* **Eps** adalah radius atau nilai ambang batas.\n",
    "\n",
    "b. Selanjutnya secara acak menentukan titik awal atau **p**.<br>\n",
    "c. Hitung **eps** atau semua jarak titik yang *density reachable* terhadap **p**.<br>\n",
    "d. Melakukan pengecekan bahwa jika titik yang memenuhi **eps** lebih dari **minpts** maka titik p adalah *core point* (titik pusat cluster berdasarkan densitas). Disinilah pembentukan cluster dilakukan.<br>\n",
    "e. Jika p adalah *border point* (titik yang menjadi batasan wilayah suatu titik pusat) dan tidak titik yang *density reachable* terhadap **p**, maka proses dilanjutkan ke titik yang lain<br>\n",
    "Catatan: sebuah titik dikatakan *reachable* apabila titik tersebut terhubung secara tidak langsung dengan titik pusat.<br>\n",
    "f. Ulangi langkah c sampai dengan e di atas sehingga semua titik telah diproses."
   ]
  },
  {
   "cell_type": "markdown",
   "metadata": {},
   "source": [
    "## Studi Kasus\n",
    "Kali ini akan dilakukan clustering terhadap data-data bunga iris tersebut dengan menggunakan algoritma DBSCAN.\n",
    "\n",
    "## Kode Program\n",
    "### 1. Memanggil library yang dibutuhkan.\n",
    "Library yang digunakan pada kasus ini adalah\n",
    "* Sklearn, adalah library untuk berbagai metode dan algoritma yang digunakan untuk memanggik DBSCAN.\n",
    "* Matplotlib, yaitu library yang digunakan untuk membuat grafik plot sesuai kebutuhan"
   ]
  },
  {
   "cell_type": "code",
   "execution_count": 11,
   "metadata": {},
   "outputs": [],
   "source": [
    "# Memanggil library yang digunakan\n",
    "from sklearn import datasets\n",
    "import matplotlib.pyplot as plt\n",
    "from sklearn.cluster import DBSCAN\n",
    "from sklearn.decomposition import PCA"
   ]
  },
  {
   "cell_type": "markdown",
   "metadata": {},
   "source": [
    "## 2. Memanggil dataset\n",
    "bisa juga melihat *methods* dan *features* dalam dataset"
   ]
  },
  {
   "cell_type": "code",
   "execution_count": 12,
   "metadata": {},
   "outputs": [
    {
     "name": "stdout",
     "output_type": "stream",
     "text": [
      "['DESCR', 'data', 'feature_names', 'filename', 'target', 'target_names']\n",
      "['sepal length (cm)', 'sepal width (cm)', 'petal length (cm)', 'petal width (cm)']\n"
     ]
    }
   ],
   "source": [
    "# Memanggil datasets IRIS\n",
    "bunga = datasets.load_iris()\n",
    "\n",
    "# Melihat method dalam dataset\n",
    "print(dir(bunga))\n",
    "\n",
    "# Melihat Features dalam dataset\n",
    "print(bunga.feature_names)"
   ]
  },
  {
   "cell_type": "code",
   "execution_count": 13,
   "metadata": {},
   "outputs": [
    {
     "name": "stdout",
     "output_type": "stream",
     "text": [
      "['setosa' 'versicolor' 'virginica']\n"
     ]
    }
   ],
   "source": [
    "# Nama Target\n",
    "print(bunga.target_names)"
   ]
  },
  {
   "cell_type": "markdown",
   "metadata": {},
   "source": [
    "## 3. Visualisasi data dengan Scatter Plot"
   ]
  },
  {
   "cell_type": "code",
   "execution_count": 14,
   "metadata": {},
   "outputs": [
    {
     "data": {
      "image/png": "[encoded data removed]",
      "text/plain": [
       "<Figure size 432x288 with 1 Axes>"
      ]
     },
     "metadata": {
      "needs_background": "light"
     },
     "output_type": "display_data"
    }
   ],
   "source": [
    "# Membagi data untuk sumbu X dan Y\n",
    "x_axis = bunga.data[:, 0] # Sepal Length\n",
    "y_axis = bunga.data[:, 2] # Sepal Width\n",
    "\n",
    "# Menampilkan data\n",
    "plt.scatter(x_axis, y_axis, c=bunga.target)\n",
    "plt.xlabel(\"Sepal Length\")\n",
    "plt.ylabel(\"Sepal Width\")\n",
    "plt.title(\"Grafik Bunga Iris\")\n",
    "plt.show()"
   ]
  },
  {
   "cell_type": "markdown",
   "metadata": {},
   "source": [
    "## 4. Mengaktifkan DBSCAN dari Sklearn"
   ]
  },
  {
   "cell_type": "code",
   "execution_count": 15,
   "metadata": {},
   "outputs": [],
   "source": [
    "# Menggunakan Model DBSCAN\n",
    "dbscan = DBSCAN()\n",
    "\n",
    "# Fitting data\n",
    "dbscan.fit(bunga.data)\n",
    "\n",
    "# Transformasi menggunakan PCA 2 D\n",
    "pca = PCA(n_components=2).fit(bunga.data)\n",
    "pca_2d = pca.transform(bunga.data)"
   ]
  },
  {
   "cell_type": "markdown",
   "metadata": {},
   "source": [
    "## 5. Visualisasi hasil\n",
    "menampilkan scatter plot dari data-data setelah dilakukan klasterisasi olen algoritma DBSCAN."
   ]
  },
  {
   "cell_type": "code",
   "execution_count": 16,
   "metadata": {},
   "outputs": [
    {
     "data": {
      "image/png": "[encoded data removed]",
      "text/plain": [
       "<Figure size 432x288 with 1 Axes>"
      ]
     },
     "metadata": {
      "needs_background": "light"
     },
     "output_type": "display_data"
    }
   ],
   "source": [
    "# Visualisasi dengan sclatter plot\n",
    "# Memberi label market\n",
    "label = {0: 'red', 1:'blue', 2:'green'}\n",
    "\n",
    "for i in range(0, pca_2d.shape[0]):\n",
    "    if dbscan.labels_[i] == 0:\n",
    "        cluster1 = plt.scatter(pca_2d[i, 0], pca_2d[i, 1], c='r', marker='^')\n",
    "    elif dbscan.labels_[i] == 1:\n",
    "        cluster2 = plt.scatter(pca_2d[i, 0], pca_2d[i, 1], c='g', marker='.')\n",
    "    elif dbscan.labels_[i] == -1:\n",
    "        noise = plt.scatter(pca_2d[i, 0], pca_2d[i, 1], c='b', marker='X')\n",
    "        \n",
    "# Memberikan legend dan judul\n",
    "plt.legend([cluster1, cluster2, noise], ['Cluster 1', 'Cluster 2', 'Noise'])\n",
    "plt.title('Klasifikasi Bunga Iris dengan BDSCAN')\n",
    "\n",
    "# Menampilkan hasil\n",
    "plt.show()"
   ]
  },
  {
   "cell_type": "code",
   "execution_count": null,
   "metadata": {},
   "outputs": [],
   "source": []
  }
 ],
 "metadata": {
  "kernelspec": {
   "display_name": "Python 3",
   "language": "python",
   "name": "python3"
  },
  "language_info": {
   "codemirror_mode": {
    "name": "ipython",
    "version": 3
   },
   "file_extension": ".py",
   "mimetype": "text/x-python",
   "name": "python",
   "nbconvert_exporter": "python",
   "pygments_lexer": "ipython3",
   "version": "3.7.3"
  }
 },
 "nbformat": 4,
 "nbformat_minor": 2
}
