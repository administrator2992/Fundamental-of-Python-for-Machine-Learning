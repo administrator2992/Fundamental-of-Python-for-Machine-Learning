{
 "cells": [
  {
   "cell_type": "markdown",
   "metadata": {},
   "source": [
    "# Tentang Fungsi\n",
    "Apabila program yang dibuat sedemikian panjangnya sehingga sangat sulit untuk dimengerti dan dipahami jalannya program, maka akan lebih baik jika kita memecah program tersebut menjadi suatu program-program kecil yang biasa disebut dengan fungsi, prosedur, atau ada pula yang menyebutnya dengan modul."
   ]
  },
  {
   "cell_type": "markdown",
   "metadata": {},
   "source": [
    "Beberapa hal tentang keuntungan menggunakan fungsi :\n",
    "* Pemakaian Fungsi akan mencegah penulisan kode yang berulang-ulang dalam suatu program.\n",
    "* Pemakaian Fungsi memungkinkan pemrogram untuk menyusun skrip ke dalam bentuk modul-modul kecil yang lebih efisien dengan tugasnya masing-masing."
   ]
  },
  {
   "cell_type": "markdown",
   "metadata": {},
   "source": [
    "# Mendefinisikan Fungsi\n",
    "Fungsi pada Python, dibuat dengan kata kunci **def** kemudian diikuti dengan nama fungsinya."
   ]
  },
  {
   "cell_type": "code",
   "execution_count": 1,
   "metadata": {},
   "outputs": [],
   "source": [
    "# Contoh\n",
    "# Membuat Fungsi dengan argumen\n",
    "def luaspersegi(panjang, lebar):\n",
    "    luas = panjang * lebar\n",
    "    print(\"Luas Persegi panjang =\", luas)"
   ]
  },
  {
   "cell_type": "markdown",
   "metadata": {},
   "source": [
    "# Memanggil Fungsi\n",
    "Cara memanggil fungsi tersebut adalah dengan mengetiikan nama fungsi berikut parameternya.\n",
    "\n",
    "Fungsi juga dapat dipanggil dan diproses di dalam fungsi lain. Fungsi juga bisa memanggil dirinya sendiri. Fungsi yang memanggil dirinya sendiri disebut dengan fungsi *rekursif.*"
   ]
  },
  {
   "cell_type": "markdown",
   "metadata": {},
   "source": [
    "## Memanggil Fungsi Sederhana"
   ]
  },
  {
   "cell_type": "code",
   "execution_count": 2,
   "metadata": {},
   "outputs": [
    {
     "name": "stdout",
     "output_type": "stream",
     "text": [
      "Halo Dunia, Selamat bertemu\n",
      "Salam dari Salatiga\n"
     ]
    }
   ],
   "source": [
    "# Contoh\n",
    "# Membuat Fungsi\n",
    "def halo():\n",
    "    print(\"Halo Dunia, Selamat bertemu\")\n",
    "    print(\"Salam dari Salatiga\")\n",
    "    return\n",
    "\n",
    "# Pemanggilan Fungsi\n",
    "halo()"
   ]
  },
  {
   "cell_type": "markdown",
   "metadata": {},
   "source": [
    "## Memanggil Fungsi dengan Argumen\n",
    "Argumen adalah input dari luar yang akan dibawa dan selanjutnya diproses di dalam fungsi."
   ]
  },
  {
   "cell_type": "code",
   "execution_count": 3,
   "metadata": {},
   "outputs": [
    {
     "name": "stdout",
     "output_type": "stream",
     "text": [
      "Luas Persegi Panjang : 24.000000\n"
     ]
    }
   ],
   "source": [
    "# Contoh\n",
    "# Membuat fungsi dengan parameter\n",
    "def luaspersegipanjang(panjang, lebar):\n",
    "    luas = panjang * lebar\n",
    "    print(\"Luas Persegi Panjang : %f\" %luas)\n",
    "    \n",
    "# Pemanggilan fungsi\n",
    "luaspersegipanjang(4, 6)"
   ]
  },
  {
   "cell_type": "markdown",
   "metadata": {},
   "source": [
    "## Memanggil Fungsi yang Mengembalikan Nilai\n",
    "Sebuah fungsi dapat mengembalikan nilai dari hasil pemrosesannya, sehingga dapat digunakan pada proses berikutnya. Fungsi tersebut dapat mengembalikan nilai dengan menggunakan kata kunci *return* kemudian diikuti dengan nilai atau variabel yang akan dikembalikan tersebut."
   ]
  },
  {
   "cell_type": "code",
   "execution_count": 4,
   "metadata": {},
   "outputs": [
    {
     "name": "stdout",
     "output_type": "stream",
     "text": [
      "Luas : 18\n"
     ]
    }
   ],
   "source": [
    "# Contoh\n",
    "def luaspersegipanjang(panjang, lebar):\n",
    "    luas = panjang * lebar\n",
    "    return luas\n",
    "\n",
    "# Pemanggilan fungsi\n",
    "print(\"Luas : %d\" %luaspersegipanjang(6, 3))"
   ]
  },
  {
   "cell_type": "markdown",
   "metadata": {},
   "source": [
    "# Fungsi Rekursif\n",
    "Fungsi Rekursif adalah fungsi yang memanggil dirinya sendiri, sehingga terjadilah perulangan di dalam fungsi tersebut. Proses perulangan tersebut terjadi secara implisit, tidak menggunakan *statement* perulangan pada umumnya seperti *for, while,* dan sebagainya.\n",
    "\n",
    "Fungsi rekursif memiliki kelebihan program lebih singkat dan tentunya lebih efisien dan proses yang cepat dibandingkan proses iteratif pada umumnya. Sedangkan kekurangannya adalah menggunakan memori yang lebih besar karena setiap memanggil bagian dari dirinya membutuhkan ruang memori untuk penyimpanan. Rekursif yang kurang tepat seringkali tidak bisa berhenti sehingga menghabiskan banyak memori yang terbuang percuma."
   ]
  },
  {
   "cell_type": "code",
   "execution_count": 5,
   "metadata": {},
   "outputs": [
    {
     "name": "stdout",
     "output_type": "stream",
     "text": [
      "Berapa Faktorial :5\n",
      "0 != 1\n",
      "1 != 1\n",
      "2 != 2\n",
      "3 != 6\n",
      "4 != 24\n",
      "5 != 120\n"
     ]
    }
   ],
   "source": [
    "# Contoh fungsi faktorial\n",
    "def faktorial(n):\n",
    "    if n <= 1:\n",
    "        return 1\n",
    "    else:\n",
    "        return n * faktorial(n-1)\n",
    "\n",
    "# Program Utama\n",
    "i = 0\n",
    "n = int(input(\"Berapa Faktorial :\"))\n",
    "\n",
    "while i<=n:\n",
    "    print(i,'!=',faktorial(i))\n",
    "    i+=1"
   ]
  },
  {
   "cell_type": "markdown",
   "metadata": {},
   "source": [
    "0 != 1<br>\n",
    "1 != 1<br>\n",
    "2 != 2x1 = 2<br>\n",
    "3 != 3x2x1 = 6<br>\n",
    "4 != 4x3x2x1 = 24<br>\n",
    "5 != 5x4x3x2x1 = 120"
   ]
  },
  {
   "cell_type": "markdown",
   "metadata": {},
   "source": [
    "# Tentang Scope sebuah Variabel\n",
    "Ruang lingkup sebuah variabel bisa bersifat *local* atau *global.* Jadi tidak semua variabel bisa diakses dari semua tempat, tergantung bagaimana mendefinisikan variabel tersebut.\n",
    "\n",
    "* Variabel lokal<br>\n",
    "Variabel lokal adalah variabel yang hanya bisa di akses di dalam sebuah fungsi saja, dimana dia didefinisikan.\n",
    "\n",
    "* Variabel Global<br>\n",
    "Variabel Global didefinisi di luar fungsi sehingga memiliki *scope* global dan bisa diakses dari mana saja."
   ]
  },
  {
   "cell_type": "code",
   "execution_count": 6,
   "metadata": {},
   "outputs": [
    {
     "name": "stdout",
     "output_type": "stream",
     "text": [
      "VARIABEL GLOBAL\n",
      "Nama: Alvin Agusta\n",
      "Alamat: Amerika Serikat\n",
      "VARIABEL LOKAL\n",
      "Nama: Navida Wahyu\n",
      "Alamat: Salatiga\n"
     ]
    }
   ],
   "source": [
    "# Contoh\n",
    "# Membuat variabel global\n",
    "nama = \"Alvin Agusta\"\n",
    "alamat = \"Amerika Serikat\"\n",
    "\n",
    "def testing():\n",
    "    # ini variabel lokal\n",
    "    nama = \"Navida Wahyu\"\n",
    "    alamat = \"Salatiga\"\n",
    "    # mengakses variabel lokal\n",
    "    print(\"Nama: %s\" % nama)\n",
    "    print(\"Alamat: %s\"% alamat)\n",
    "\n",
    "# Mengakses variabel global\n",
    "print(\"VARIABEL GLOBAL\")\n",
    "print(\"Nama: %s\" % nama)\n",
    "print(\"Alamat: %s\"% alamat)\n",
    "\n",
    "# Mengakses fungsi testinglokal()\n",
    "print(\"VARIABEL LOKAL\")\n",
    "testing()"
   ]
  },
  {
   "cell_type": "markdown",
   "metadata": {},
   "source": [
    "Pada skrip di atas, variabel nama dan alamat yang ditulis pada baris awal adalah variabel global yang bisa dipanggil dari mana saja.<br>\n",
    "Sedangkan variabel nama dan alamt yang diletakkan di dalam fungsi **testing()** adalah variabel lokal dan hanya bisa dipanggil dalam fungsi itu."
   ]
  },
  {
   "cell_type": "code",
   "execution_count": null,
   "metadata": {},
   "outputs": [],
   "source": []
  }
 ],
 "metadata": {
  "kernelspec": {
   "display_name": "Python 3",
   "language": "python",
   "name": "python3"
  },
  "language_info": {
   "codemirror_mode": {
    "name": "ipython",
    "version": 3
   },
   "file_extension": ".py",
   "mimetype": "text/x-python",
   "name": "python",
   "nbconvert_exporter": "python",
   "pygments_lexer": "ipython3",
   "version": "3.7.3"
  }
 },
 "nbformat": 4,
 "nbformat_minor": 2
}
