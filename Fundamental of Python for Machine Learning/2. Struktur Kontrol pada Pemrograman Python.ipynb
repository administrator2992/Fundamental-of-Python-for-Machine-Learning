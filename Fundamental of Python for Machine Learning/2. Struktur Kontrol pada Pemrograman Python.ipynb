{
 "cells": [
  {
   "cell_type": "markdown",
   "metadata": {},
   "source": [
    "# Struktur Sequence atau Berurutan\n",
    "Struktur berurutan adalah struktur yang paling dasar dalam sebuah pemrograman. Struktur ini memproses sebuah program dengan urutan input-proses-output."
   ]
  },
  {
   "cell_type": "code",
   "execution_count": 1,
   "metadata": {},
   "outputs": [
    {
     "name": "stdout",
     "output_type": "stream",
     "text": [
      "Masukkan panjang = 4\n",
      "Masukkan lebar = 3\n",
      "Luas persegi panjang =  12.0 cm2\n"
     ]
    }
   ],
   "source": [
    "# Contoh\n",
    "# Masukkan data panjang dan lebar\n",
    "panjang = float(input('Masukkan panjang = '))\n",
    "lebar = float(input('Masukkan lebar = '))\n",
    "\n",
    "#Hitung Luas\n",
    "luas = panjang * lebar\n",
    "\n",
    "#Cetak Luas\n",
    "print('Luas persegi panjang = ', luas,'cm2')"
   ]
  },
  {
   "cell_type": "markdown",
   "metadata": {},
   "source": [
    "# Struktur Kondisi\n",
    "Struktur pemrograman logika, berhubungan erat dengan seleksi dari sebuah kondisi. Struktur ini membawa seseorang pada suatu keputusan dari beberapa pilihan yang ada."
   ]
  },
  {
   "cell_type": "markdown",
   "metadata": {},
   "source": [
    "## Kondisi If dengan Logika Tunggal\n",
    "Logika tunggal adalah struktur logika yang hanya memiliki satu kondisi yang harus dipilih."
   ]
  },
  {
   "cell_type": "code",
   "execution_count": 2,
   "metadata": {
    "scrolled": true
   },
   "outputs": [
    {
     "name": "stdout",
     "output_type": "stream",
     "text": [
      "Masukkan nilai = 5\n"
     ]
    }
   ],
   "source": [
    "# Contoh\n",
    "# Masukkan nilai\n",
    "nilai = float(input('Masukkan nilai = '))\n",
    "\n",
    "#Cek kelulusan\n",
    "if (nilai > 60):\n",
    "    print(\"Selamat Anda Lulus\")"
   ]
  },
  {
   "cell_type": "markdown",
   "metadata": {},
   "source": [
    "## Kondisi If Else\n",
    "Pada perkembangannya, struktur logika tunggal dengan menggunakan if dapat dilengkapi dengan kondisi dimana memiliki dua cabang hasil pemrosesan."
   ]
  },
  {
   "cell_type": "code",
   "execution_count": 3,
   "metadata": {},
   "outputs": [
    {
     "name": "stdout",
     "output_type": "stream",
     "text": [
      "Masukkan nilai = 5\n",
      "Maaf Anda Gagal\n"
     ]
    }
   ],
   "source": [
    "# Contoh\n",
    "# Masukkan nilai\n",
    "nilai = float(input('Masukkan nilai = '))\n",
    "\n",
    "#Cek kelulusan\n",
    "if (nilai > 60):\n",
    "    print(\"Selamat Anda Lulus\")\n",
    "else:\n",
    "    print(\"Maaf Anda Gagal\")"
   ]
  },
  {
   "cell_type": "markdown",
   "metadata": {},
   "source": [
    "## Kondisi Elif atau Logika Majemuk\n",
    "Logika majemuk, artinya bahwa terdapat lebih dari satu kondisi yang menuju pada keputusan yang akan diambil."
   ]
  },
  {
   "cell_type": "code",
   "execution_count": 4,
   "metadata": {},
   "outputs": [
    {
     "name": "stdout",
     "output_type": "stream",
     "text": [
      "Masukkan nilai = 65\n",
      "Anda Lulus\n"
     ]
    }
   ],
   "source": [
    "# Contoh\n",
    "# Masukkan nilai\n",
    "nilai = float(input('Masukkan nilai = '))\n",
    "# Cek kelulusan\n",
    "if (nilai > 60):\n",
    "    print(\"Anda Lulus\")\n",
    "elif (nilai >= 40):\n",
    "    print(\"Anda perlu perbaikan\")\n",
    "else:\n",
    "    print(\"Anda Gagal dan harus mengulang\")"
   ]
  },
  {
   "cell_type": "markdown",
   "metadata": {},
   "source": [
    "# Struktur Perulangan atau Looping\n",
    "Struktur perulangan atau yang biasa disebut looping digunakan bila Anda ingin mengeksekusi suatu blok perintah yang dilakukan secara berulang."
   ]
  },
  {
   "cell_type": "markdown",
   "metadata": {},
   "source": [
    "## Perulangan dengan While\n",
    "Perulangan dengan perintah **while** digunakan untuk melakukan perulangan selama ekspresi kendali bernilai benar."
   ]
  },
  {
   "cell_type": "code",
   "execution_count": 5,
   "metadata": {},
   "outputs": [
    {
     "name": "stdout",
     "output_type": "stream",
     "text": [
      "Perulangan ke:  1\n",
      "Perulangan ke:  2\n",
      "Perulangan ke:  3\n",
      "Perulangan ke:  4\n",
      "Perulangan ke:  5\n",
      "Perulangan ke:  6\n",
      "Perulangan ke:  7\n",
      "Perulangan ke:  8\n",
      "Perulangan selesai\n"
     ]
    }
   ],
   "source": [
    "# Contoh penggunaan While Loop\n",
    "ulang = 1\n",
    "while (ulang < 9):\n",
    "    print('Perulangan ke: ', ulang)\n",
    "    ulang = ulang + 1\n",
    "print(\"Perulangan selesai\")"
   ]
  },
  {
   "cell_type": "markdown",
   "metadata": {},
   "source": [
    "## Perulangan dengan For\n",
    "Berbeda dengan struktur sebelumnya, perintah **For** digunakan untuk melakukan perulangan dengan jumlah yang telah ditentukan sebelumnya. Perulangan ditentukan dalam suatu *list* yang telah didefinisikan sebelumnya."
   ]
  },
  {
   "cell_type": "code",
   "execution_count": 6,
   "metadata": {},
   "outputs": [
    {
     "name": "stdout",
     "output_type": "stream",
     "text": [
      "1\n",
      "3\n",
      "5\n",
      "7\n"
     ]
    }
   ],
   "source": [
    "# Contoh pengulangan for sederhana\n",
    "ulang = [1,3,5,7]\n",
    "for x in ulang:\n",
    "    print(x)"
   ]
  },
  {
   "cell_type": "code",
   "execution_count": 7,
   "metadata": {},
   "outputs": [
    {
     "name": "stdout",
     "output_type": "stream",
     "text": [
      "Saya tugas piket di hari Senin\n",
      "Saya tugas piket di hari Rabu\n",
      "Saya tugas piket di hari Jum'at\n"
     ]
    }
   ],
   "source": [
    "# Contoh pengulangan for lainnya\n",
    "hari = [\"Senin\", \"Rabu\", \"Jum'at\"]\n",
    "for piket in hari:\n",
    "    print(\"Saya tugas piket di hari\", piket)"
   ]
  },
  {
   "cell_type": "code",
   "execution_count": 8,
   "metadata": {},
   "outputs": [
    {
     "name": "stdout",
     "output_type": "stream",
     "text": [
      "Perulangan ke 5\n",
      "Perulangan ke 7\n",
      "Perulangan ke 9\n",
      "Perulangan ke 11\n",
      "Perulangan ke 13\n"
     ]
    }
   ],
   "source": [
    "# Contoh pengulangan menggunakan range\n",
    "for x in range(5, 15, 2):\n",
    "    print(\"Perulangan ke\", x)"
   ]
  },
  {
   "cell_type": "markdown",
   "metadata": {},
   "source": [
    "## Perulangan Bersarang (Nested Loop)\n",
    "Perulangan bersarang atau *Nested Loop* adalah perulangan dalam perulangan."
   ]
  },
  {
   "cell_type": "code",
   "execution_count": 9,
   "metadata": {},
   "outputs": [
    {
     "name": "stdout",
     "output_type": "stream",
     "text": [
      "Nilai i = 0 j = 6\n",
      "Nilai i = 0 j = 7\n",
      "Nilai i = 0 j = 8\n",
      "Nilai i = 0 j = 9\n",
      "\n",
      "Nilai i = 1 j = 6\n",
      "Nilai i = 1 j = 7\n",
      "Nilai i = 1 j = 8\n",
      "Nilai i = 1 j = 9\n",
      "\n"
     ]
    }
   ],
   "source": [
    "# Contoh\n",
    "for i in range(2):\n",
    "    for j in range(6, 10, 1):\n",
    "        print(\"Nilai i =\", i, \"j =\", j)\n",
    "    print()"
   ]
  },
  {
   "cell_type": "code",
   "execution_count": null,
   "metadata": {},
   "outputs": [],
   "source": []
  }
 ],
 "metadata": {
  "kernelspec": {
   "display_name": "Python 3",
   "language": "python",
   "name": "python3"
  },
  "language_info": {
   "codemirror_mode": {
    "name": "ipython",
    "version": 3
   },
   "file_extension": ".py",
   "mimetype": "text/x-python",
   "name": "python",
   "nbconvert_exporter": "python",
   "pygments_lexer": "ipython3",
   "version": "3.7.3"
  }
 },
 "nbformat": 4,
 "nbformat_minor": 2
}
