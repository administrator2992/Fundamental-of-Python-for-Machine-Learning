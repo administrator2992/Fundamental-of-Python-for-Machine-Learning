{
 "cells": [
  {
   "cell_type": "markdown",
   "metadata": {},
   "source": [
    "# Aturan Penulisan Statement pada Python"
   ]
  },
  {
   "cell_type": "markdown",
   "metadata": {},
   "source": [
    "1. Penulisan satu statement di dalam Python tidak diakhiri dengan tanda titik-koma"
   ]
  },
  {
   "cell_type": "code",
   "execution_count": 1,
   "metadata": {},
   "outputs": [
    {
     "name": "stdout",
     "output_type": "stream",
     "text": [
      "Halo Dunia!\n",
      "panjang = 100\n",
      "lebar = 23\n"
     ]
    }
   ],
   "source": [
    "# Contoh\n",
    "print(\"Halo Dunia!\")\n",
    "print(\"panjang = 100\")\n",
    "print(\"lebar = 23\")"
   ]
  },
  {
   "cell_type": "markdown",
   "metadata": {},
   "source": [
    "2. *Statement* pada Pyhton dinyatakan dalam satu baris. Jadi akhir dari sebuah pernyataan adalah baris baru *(new line).*"
   ]
  },
  {
   "cell_type": "code",
   "execution_count": 2,
   "metadata": {},
   "outputs": [
    {
     "name": "stdout",
     "output_type": "stream",
     "text": [
      "luas = panjang * lebar\n"
     ]
    }
   ],
   "source": [
    "# Contoh\n",
    "print(\"luas = panjang * lebar\")"
   ]
  },
  {
   "cell_type": "markdown",
   "metadata": {},
   "source": [
    "3. Jika ada pernyataan yang panjangnya terdiri lebih dari 1 baris, maka dapat dilakukan dengan menggunakan tanda *backslash* (\\)."
   ]
  },
  {
   "cell_type": "code",
   "execution_count": 3,
   "metadata": {},
   "outputs": [
    {
     "name": "stdout",
     "output_type": "stream",
     "text": [
      "volume = panjang * lebar *tinggi\n"
     ]
    }
   ],
   "source": [
    "# Contoh\n",
    "print(\"volume = panjang * lebar *\\\n",
    "tinggi\")"
   ]
  },
  {
   "cell_type": "markdown",
   "metadata": {},
   "source": [
    "4. *Statement* yang ada di dalam atau diapit oleh tanda kurung seperti \"[],{},()\" tidak memerlukan tanda \"\\\"."
   ]
  },
  {
   "cell_type": "code",
   "execution_count": 4,
   "metadata": {},
   "outputs": [
    {
     "name": "stdout",
     "output_type": "stream",
     "text": [
      "['Senin', 'Selasa', 'Rabu', 'Kamis', 'Jumat', 'Sabtu']\n"
     ]
    }
   ],
   "source": [
    "# Contoh\n",
    "nama_hari = ['Senin','Selasa','Rabu','Kamis','Jumat','Sabtu']\n",
    "print(nama_hari)"
   ]
  },
  {
   "cell_type": "markdown",
   "metadata": {},
   "source": [
    "5. Python menggunakan tanda indentasi (spasi) sebagai penanda blok. Panjang spasi atau indentasi untuk setiap baris yang ada dalam satu blok kode harus sama. Bila spasi atau indentasi dalam satu grup kode tersebut tidak sama, python akan menamplikan *sintaks error.*"
   ]
  },
  {
   "cell_type": "code",
   "execution_count": 5,
   "metadata": {},
   "outputs": [
    {
     "name": "stdout",
     "output_type": "stream",
     "text": [
      "diterima masuk SD\n",
      "dinyatakan lulus\n"
     ]
    }
   ],
   "source": [
    "# Contoh\n",
    "usia = 7\n",
    "if usia >= 7:\n",
    "    print(\"diterima masuk SD\")\n",
    "    print(\"dinyatakan lulus\")\n",
    "else:\n",
    "    print(\"tidak diterima masuk SD\")\n",
    "    print(\"dinyatakan gagal\")"
   ]
  },
  {
   "cell_type": "markdown",
   "metadata": {},
   "source": [
    "6. Sebaga penanda *string*, Python menggunakan tanda kutip, baik tunggal ('), maupun ganda(\"). Tanda kutip tiga(\"\"\") digunakan untuk *string* multibaris."
   ]
  },
  {
   "cell_type": "code",
   "execution_count": 6,
   "metadata": {},
   "outputs": [
    {
     "name": "stdout",
     "output_type": "stream",
     "text": [
      "Alvin\n",
      "Alvin Agusta Wahyono\n",
      "Berikut ini adalah alinea\n",
      "yang terdiri dari beberapa baris.\n"
     ]
    }
   ],
   "source": [
    "# Contoh\n",
    "namadepan = 'Alvin'\n",
    "namalengap = \"Alvin Agusta Wahyono\"\n",
    "alinea = \"\"\"Berikut ini adalah alinea\n",
    "yang terdiri dari beberapa baris.\"\"\"\n",
    "print(namadepan)\n",
    "print(namalengap)\n",
    "print(alinea)"
   ]
  },
  {
   "cell_type": "markdown",
   "metadata": {},
   "source": [
    "7. Bahasa Python bersifat *case sensitif,* yang berarti membedakan huruf besar dan huruf kecil (memiliki nilai yang berbeda)."
   ]
  },
  {
   "cell_type": "code",
   "execution_count": 7,
   "metadata": {},
   "outputs": [
    {
     "name": "stdout",
     "output_type": "stream",
     "text": [
      "45\n"
     ]
    },
    {
     "ename": "NameError",
     "evalue": "name 'Print' is not defined",
     "output_type": "error",
     "traceback": [
      "\u001b[1;31m---------------------------------------------------------------------------\u001b[0m",
      "\u001b[1;31mNameError\u001b[0m                                 Traceback (most recent call last)",
      "\u001b[1;32m<ipython-input-7-d501f99f9f73>\u001b[0m in \u001b[0;36m<module>\u001b[1;34m\u001b[0m\n\u001b[0;32m      5\u001b[0m \u001b[1;31m# Contoh statement yang salah\u001b[0m\u001b[1;33m\u001b[0m\u001b[1;33m\u001b[0m\u001b[1;33m\u001b[0m\u001b[0m\n\u001b[0;32m      6\u001b[0m \u001b[0mluas\u001b[0m \u001b[1;33m=\u001b[0m \u001b[1;36m15\u001b[0m\u001b[1;33m*\u001b[0m\u001b[1;36m3\u001b[0m\u001b[1;33m\u001b[0m\u001b[1;33m\u001b[0m\u001b[0m\n\u001b[1;32m----> 7\u001b[1;33m \u001b[0mPrint\u001b[0m\u001b[1;33m(\u001b[0m\u001b[0mluas\u001b[0m\u001b[1;33m)\u001b[0m\u001b[1;33m\u001b[0m\u001b[1;33m\u001b[0m\u001b[0m\n\u001b[0m\u001b[0;32m      8\u001b[0m \u001b[0mPRINT\u001b[0m\u001b[1;33m(\u001b[0m\u001b[0mluas\u001b[0m\u001b[1;33m)\u001b[0m\u001b[1;33m\u001b[0m\u001b[1;33m\u001b[0m\u001b[0m\n",
      "\u001b[1;31mNameError\u001b[0m: name 'Print' is not defined"
     ]
    }
   ],
   "source": [
    "# Contoh statement yang benar\n",
    "luas = 15*3\n",
    "print(luas)\n",
    "\n",
    "# Contoh statement yang salah\n",
    "luas = 15*3\n",
    "Print(luas)\n",
    "PRINT(luas)"
   ]
  },
  {
   "cell_type": "markdown",
   "metadata": {},
   "source": [
    "8. Untuk komentar di awali dengan tanda \"#\" yang artinya tidak diproses sebagai *statement code.*"
   ]
  },
  {
   "cell_type": "code",
   "execution_count": 8,
   "metadata": {},
   "outputs": [
    {
     "name": "stdout",
     "output_type": "stream",
     "text": [
      "45\n"
     ]
    }
   ],
   "source": [
    "# Contoh\n",
    "# perintah untuk menghitung luas\n",
    "panjang = 15\n",
    "lebar = 3\n",
    "luas = (panjang*lebar)\n",
    "print(luas)"
   ]
  },
  {
   "cell_type": "markdown",
   "metadata": {},
   "source": [
    "# Keyword Python"
   ]
  },
  {
   "cell_type": "markdown",
   "metadata": {},
   "source": [
    "| Daftar   | Keyword  |\n",
    "|----------|----------|\n",
    "| and      | if       |\n",
    "| as       | import   |\n",
    "| assert   | in       |\n",
    "| break    | is       |\n",
    "| class    | lambda   |\n",
    "| continue | nonlocal |\n",
    "| def      | not      |\n",
    "| del      | or       |\n",
    "| elif     | pass     |\n",
    "| else     | raise    |\n",
    "| except   | return   |\n",
    "| finally  | try      |\n",
    "| for      | while    |\n",
    "| from     | with     |\n",
    "| global   | yield    |"
   ]
  },
  {
   "cell_type": "markdown",
   "metadata": {},
   "source": [
    "# Tentang Variabel"
   ]
  },
  {
   "cell_type": "code",
   "execution_count": 9,
   "metadata": {},
   "outputs": [
    {
     "name": "stdout",
     "output_type": "stream",
     "text": [
      "Budi\n",
      "Jakarta Pusat\n",
      "Kalimantan Timur\n"
     ]
    }
   ],
   "source": [
    "# Contoh-contoh variabel yang benar\n",
    "_nama = 'Budi'\n",
    "alamat = 'Jakarta Pusat'\n",
    "Alamat2 = 'Kalimantan Timur'\n",
    "print(_nama)\n",
    "print(alamat)\n",
    "print(Alamat2)"
   ]
  },
  {
   "cell_type": "code",
   "execution_count": 10,
   "metadata": {},
   "outputs": [
    {
     "ename": "SyntaxError",
     "evalue": "invalid syntax (<ipython-input-10-11400bbd5e78>, line 2)",
     "output_type": "error",
     "traceback": [
      "\u001b[1;36m  File \u001b[1;32m\"<ipython-input-10-11400bbd5e78>\"\u001b[1;36m, line \u001b[1;32m2\u001b[0m\n\u001b[1;33m    nama mahasiswa = 'Budi'\u001b[0m\n\u001b[1;37m                 ^\u001b[0m\n\u001b[1;31mSyntaxError\u001b[0m\u001b[1;31m:\u001b[0m invalid syntax\n"
     ]
    }
   ],
   "source": [
    "# Contoh-contoh variavel yang salah\n",
    "nama mahasiswa = 'Budi'\n",
    "2alamat = 'Jakarta Pusat'\n",
    "alamat-rumah = 'Kalimantan Timur'\n",
    "print(alamt-rumah)"
   ]
  },
  {
   "cell_type": "code",
   "execution_count": 11,
   "metadata": {},
   "outputs": [
    {
     "name": "stdout",
     "output_type": "stream",
     "text": [
      "1500\n",
      "Navida Wahyu\n"
     ]
    }
   ],
   "source": [
    "# Contoh proses memasukan data ke dalam sebuah variabel\n",
    "panjang = 100\n",
    "lebar = 15\n",
    "luas = panjang*lebar\n",
    "nama = \"Navida Wahyu\"\n",
    "print(luas)\n",
    "print(nama)"
   ]
  },
  {
   "cell_type": "code",
   "execution_count": 12,
   "metadata": {},
   "outputs": [
    {
     "name": "stdout",
     "output_type": "stream",
     "text": [
      "150\n",
      "tidak diketahui\n"
     ]
    },
    {
     "data": {
      "text/plain": [
       "str"
      ]
     },
     "execution_count": 12,
     "metadata": {},
     "output_type": "execute_result"
    }
   ],
   "source": [
    "# Contoh perubahan nilai dan tipe data variabel di tengah-tengah proses.\n",
    "panjang = 150\n",
    "print(panjang) # mencetak nilai umur\n",
    "type(panjang)  # mengecek tipe data umur\n",
    "\n",
    "panjang = \"tidak diketahui\"\n",
    "print(panjang) # mencetak nilai umur\n",
    "type(panjang)  # mengecek tipe data umur"
   ]
  },
  {
   "cell_type": "markdown",
   "metadata": {},
   "source": [
    "# Tipe Data\n",
    "\n",
    "Bahasa pemrograman Python mendukung dua tipe dasar yaitu teks dan numerik. Teks adalah tipe data yang berisikan karakter atau sekumpulan karakter, sedangkan tipe data numerik adalah tipe data bilangan"
   ]
  },
  {
   "cell_type": "markdown",
   "metadata": {},
   "source": [
    "## Tipe Data Karakter *(String)*"
   ]
  },
  {
   "cell_type": "code",
   "execution_count": 13,
   "metadata": {},
   "outputs": [
    {
     "name": "stdout",
     "output_type": "stream",
     "text": [
      "Alvin Agusta\n",
      "Jl. Mangga No 2, Tegalrejo, Salatiga\n",
      "9B\n"
     ]
    },
    {
     "data": {
      "text/plain": [
       "str"
      ]
     },
     "execution_count": 13,
     "metadata": {},
     "output_type": "execute_result"
    }
   ],
   "source": [
    "# Contoh\n",
    "nama = 'Alvin Agusta'\n",
    "alamat = \"Jl. Mangga No 2, Tegalrejo, Salatiga\"\n",
    "kelas = '9B'\n",
    "print(nama)\n",
    "print(alamat)\n",
    "print(kelas)\n",
    "\n",
    "type(nama)\n",
    "type(alamat)\n",
    "type(kelas)"
   ]
  },
  {
   "cell_type": "markdown",
   "metadata": {},
   "source": [
    "## Tipe Data Numerik"
   ]
  },
  {
   "cell_type": "markdown",
   "metadata": {},
   "source": [
    "* Tipe Data Integer<br>\n",
    "  Tipe data yang menyatakan bilangan bulat."
   ]
  },
  {
   "cell_type": "code",
   "execution_count": 14,
   "metadata": {},
   "outputs": [
    {
     "name": "stdout",
     "output_type": "stream",
     "text": [
      "43\n",
      "89\n"
     ]
    },
    {
     "data": {
      "text/plain": [
       "int"
      ]
     },
     "execution_count": 14,
     "metadata": {},
     "output_type": "execute_result"
    }
   ],
   "source": [
    "# Contoh\n",
    "umur = 43\n",
    "nilai = 89\n",
    "print(umur)\n",
    "print(nilai)\n",
    "\n",
    "type(umur)\n",
    "type(nilai)"
   ]
  },
  {
   "cell_type": "markdown",
   "metadata": {},
   "source": [
    "* Tipe Data Float<br>\n",
    "  Tipe data yang menyatakan nilai bilangan desimal atau basis 10"
   ]
  },
  {
   "cell_type": "code",
   "execution_count": 15,
   "metadata": {},
   "outputs": [
    {
     "name": "stdout",
     "output_type": "stream",
     "text": [
      "3.14\n",
      "125.75\n"
     ]
    },
    {
     "data": {
      "text/plain": [
       "float"
      ]
     },
     "execution_count": 15,
     "metadata": {},
     "output_type": "execute_result"
    }
   ],
   "source": [
    "# Contoh\n",
    "phi = 3.14\n",
    "luassegitiga = 125.75\n",
    "print(phi)\n",
    "type(phi)\n",
    "\n",
    "print(luassegitiga)\n",
    "type(luassegitiga)"
   ]
  },
  {
   "cell_type": "markdown",
   "metadata": {},
   "source": [
    "* Hexadecimal<br>\n",
    "  Tipe data yang menyatakan bilangan dalam format heksa (bilangan berbasis 16)."
   ]
  },
  {
   "cell_type": "code",
   "execution_count": 16,
   "metadata": {},
   "outputs": [
    {
     "name": "stdout",
     "output_type": "stream",
     "text": [
      "Nilai hexadesimal dari 17 adalah 0x11\n"
     ]
    }
   ],
   "source": [
    "# Contoh\n",
    "nilai = 17\n",
    "print('Nilai hexadesimal dari 17 adalah '+hex(nilai))"
   ]
  },
  {
   "cell_type": "markdown",
   "metadata": {},
   "source": [
    "* Oktal<br>\n",
    "  Tipe data yang menyatakan bilangan dalam format okta (bilangan berbasis 8)."
   ]
  },
  {
   "cell_type": "code",
   "execution_count": 17,
   "metadata": {},
   "outputs": [
    {
     "name": "stdout",
     "output_type": "stream",
     "text": [
      "Nilai octal dari 6776 adalah 0o15170\n"
     ]
    }
   ],
   "source": [
    "# Contoh\n",
    "nilai = 6776\n",
    "print('Nilai octal dari 6776 adalah '+oct(nilai))"
   ]
  },
  {
   "cell_type": "markdown",
   "metadata": {},
   "source": [
    "## Tipe Data Lainnya"
   ]
  },
  {
   "cell_type": "markdown",
   "metadata": {},
   "source": [
    "* Boolean adalah tipe data yang menyatakan jika benar bernilai **True** atau 1, atau jika salah bernilai **False** atau 0."
   ]
  },
  {
   "cell_type": "code",
   "execution_count": 18,
   "metadata": {},
   "outputs": [
    {
     "name": "stdout",
     "output_type": "stream",
     "text": [
      "True\n",
      "False\n"
     ]
    }
   ],
   "source": [
    "# Contoh\n",
    "lulus = True\n",
    "gagal = False\n",
    "nilai = 80\n",
    "\n",
    "if nilai > 65:\n",
    "    print(lulus)\n",
    "else:\n",
    "    print(gagal)\n",
    "\n",
    "if nilai < 65:\n",
    "    print(lulus)\n",
    "else:\n",
    "    print(gagal)"
   ]
  },
  {
   "cell_type": "markdown",
   "metadata": {},
   "source": [
    "* List adalah tipe data untaian, yaitu struktur data yang mampu menyimpan lebih dari satu data dengan berbagai tipe data. List dibuat seperti halnya variabel biasa, tetapi nilai variabelnya diisi dengan tanda kurung siku (\"[]\")."
   ]
  },
  {
   "cell_type": "code",
   "execution_count": 19,
   "metadata": {},
   "outputs": [
    {
     "name": "stdout",
     "output_type": "stream",
     "text": [
      "[]\n",
      "['jambu', 'mangga', 'sawo']\n",
      "[25, 'dua puluh', 2.75]\n"
     ]
    }
   ],
   "source": [
    "# Membuat List kosong\n",
    "buah = []\n",
    "\n",
    "# Membuat list berisi 1 tipe data\n",
    "buah_isi = [\"jambu\",\"mangga\",\"sawo\"]\n",
    "\n",
    "# Membuat list berisi beberapa tipe data\n",
    "nomor = [25,\"dua puluh\",2.75]\n",
    "\n",
    "print(buah)\n",
    "print(buah_isi)\n",
    "print(nomor)"
   ]
  },
  {
   "cell_type": "markdown",
   "metadata": {},
   "source": [
    "* Tuple merupakan tipe data untaian yang juga menyimpan berbagai tipe data, tetapi bersifat *immutable,* artinya isinya **tidak bisa dirubah**. Tuple bisa dibuat di dalam sebuah tanda kurung, atau bisa juga tidak. "
   ]
  },
  {
   "cell_type": "code",
   "execution_count": 20,
   "metadata": {},
   "outputs": [
    {
     "name": "stdout",
     "output_type": "stream",
     "text": [
      "(90, 78, 'Lulus')\n",
      "(90, 78, 'Lulus')\n"
     ]
    }
   ],
   "source": [
    "# Dengan tanda kurung\n",
    "nilai=(90,78,'Lulus')\n",
    "\n",
    "# Tanpa tanda kurung\n",
    "nilai_=90,78,'Lulus'\n",
    "\n",
    "print(nilai)\n",
    "print(nilai_)"
   ]
  },
  {
   "cell_type": "markdown",
   "metadata": {},
   "source": [
    "# Operator\n",
    "Operator digunakan untuk memanipulasi nilai suatu variabel. Variabel yang nilainya dimodifikasi oleh operator disebut *operand*."
   ]
  },
  {
   "cell_type": "code",
   "execution_count": 21,
   "metadata": {},
   "outputs": [
    {
     "data": {
      "text/plain": [
       "100"
      ]
     },
     "execution_count": 21,
     "metadata": {},
     "output_type": "execute_result"
    }
   ],
   "source": [
    "# Contoh\n",
    "25*4 \n",
    "# '25*4' disebut sebagai ekspresi\n",
    "# '25' dan '4' disebut operand\n",
    "# Tanda '*' disebut operator"
   ]
  },
  {
   "cell_type": "markdown",
   "metadata": {},
   "source": [
    "## Arithmetic Operator\n",
    "Operator ini merupakan operator yang biasa digunakan dalam operasi matematika."
   ]
  },
  {
   "cell_type": "markdown",
   "metadata": {},
   "source": [
    "| Operator | Operasi                     |\n",
    "|----------|-----------------------------|\n",
    "| +        | Penjumlahan                 |\n",
    "| -        | Pengurangan                 |\n",
    "| *        | Perkalian                   |\n",
    "| /        | Pembagian                   |\n",
    "| %        | Modulo atau sisa hasil bagi |\n",
    "| **       | Pangkat                     |\n",
    "| //       | Pembagian bulat             |"
   ]
  },
  {
   "cell_type": "code",
   "execution_count": 22,
   "metadata": {},
   "outputs": [
    {
     "name": "stdout",
     "output_type": "stream",
     "text": [
      "32\n",
      "22\n",
      "36\n",
      "10.0\n",
      "2\n",
      "16\n",
      "8\n"
     ]
    }
   ],
   "source": [
    "# Contoh Penjumlah\n",
    "penjumlahan=24+8\n",
    "print(penjumlahan)\n",
    "\n",
    "# Contoh Pengurangan\n",
    "pengurangan=25-3\n",
    "print(pengurangan)\n",
    "\n",
    "# Contoh Perkalian\n",
    "perkalian=12*3\n",
    "print(perkalian)\n",
    "\n",
    "# Contoh Pembagian\n",
    "pembagian=50/5\n",
    "print(pembagian)\n",
    "\n",
    "# Contoh Modulo\n",
    "modulo=34%4\n",
    "print(modulo)\n",
    "\n",
    "# Contoh Pangkat\n",
    "pangkat=2**4\n",
    "print(pangkat)\n",
    "\n",
    "# Contoh Pembagian bulat\n",
    "pembagian_bulat=24//3\n",
    "print(pembagian_bulat)"
   ]
  },
  {
   "cell_type": "markdown",
   "metadata": {},
   "source": [
    "## Assignment Operator\n",
    "Assignment Operator atau yang juga biasa disebut operator penugasan merupakan operator yang digunakan untuk memberikan nilai ke suatu variabel atau variabel ke variabel. Simbol operator ini adalah \"sama dengan\" (=)."
   ]
  },
  {
   "cell_type": "markdown",
   "metadata": {},
   "source": [
    "| Operator | Fungsi                                                                           |\n",
    "|----------|----------------------------------------------------------------------------------|\n",
    "| =        | Memberikan nilai kepada sebuah variabel                                          |\n",
    "| +=       | Untuk menambah nilai variabel di kiri dengan nilai di sebelah kanan              |\n",
    "| -=       | Untuk mengurangi nilai variabel di kiri dengan nilai di sebelah kanan            |\n",
    "| /=       | Untuk membagi nilai variabel di kiri dengan nilai di sebelah kanan               |\n",
    "| %=       | Sisa hasil bagi antara nilai variabel di kiri dengan kanan                       |\n",
    "| **=      | Melakukan operasi pangkat antara nilai variabel kiri dengan nilai di kanan       |\n",
    "| //=      | Melakukan operasi membagi bulat antara nilai variabel kiri dengan nilai di kanan |"
   ]
  },
  {
   "cell_type": "code",
   "execution_count": 23,
   "metadata": {},
   "outputs": [
    {
     "name": "stdout",
     "output_type": "stream",
     "text": [
      "10\n",
      "12\n",
      "4\n",
      "0.2\n",
      "3\n",
      "243\n",
      "3\n"
     ]
    }
   ],
   "source": [
    "# Contoh Operator =\n",
    "a = 10\n",
    "print(a)\n",
    "\n",
    "# Contoh Operator +=\n",
    "x=2\n",
    "x+=10\n",
    "print(x) # 14=4+10\n",
    "\n",
    "# Contoh Operator -=\n",
    "x1=9\n",
    "x1-=5\n",
    "print(x1) # 4=9-5\n",
    "\n",
    "# Contoh Operator /=\n",
    "x2=2\n",
    "x2/=10\n",
    "print(x2) # 0.2=2/10\n",
    "\n",
    "# Contoh Operator %=\n",
    "x3=3\n",
    "x3%=5\n",
    "print(x3) # 3=3%5\n",
    "\n",
    "# Contoh Operator **=\n",
    "x4=3\n",
    "x4**=5\n",
    "print(x4) # 243=3**5\n",
    "\n",
    "# Contoh Operator //=\n",
    "x5=17\n",
    "x5//=5\n",
    "print(x5) # 3=17//5"
   ]
  },
  {
   "cell_type": "markdown",
   "metadata": {},
   "source": [
    "## Comparison operators.\n",
    "Operator ini dikenal juga dengan sebutan operator perbandingan atau relasional yaitu operator yang digunakan untuk melakukan perbandingan antara dua buah operand dan menghasilkan nilai **true** atau **false.**"
   ]
  },
  {
   "cell_type": "markdown",
   "metadata": {},
   "source": [
    "| Operator   | Fungsi                            |\n",
    "|------------|-----------------------------------|\n",
    "| ==         | Sama dengan                       |\n",
    "| != atau <> | Tidak sama dengan                 |\n",
    "| <          | Kurang dari                       |\n",
    "| >          | Lebih besar dari                  |\n",
    "| <=         | Kurang dari atau sama dengan      |\n",
    "| >=         | Lebih besar dari atau sama dengan |"
   ]
  },
  {
   "cell_type": "code",
   "execution_count": 24,
   "metadata": {},
   "outputs": [
    {
     "name": "stdout",
     "output_type": "stream",
     "text": [
      "True\n",
      "True\n",
      "True\n",
      "True\n",
      "True\n",
      "True\n"
     ]
    }
   ],
   "source": [
    "# Contoh Operator == (Sama dengan)\n",
    "t = True\n",
    "f = False\n",
    "a = 80\n",
    "if a == 80:\n",
    "    print(t)\n",
    "else:\n",
    "    print(f)\n",
    "    \n",
    "# Contoh Operator != atau <> (Tidak sama dengan)\n",
    "if a != 65:\n",
    "    print(t)\n",
    "else:\n",
    "    print(f)\n",
    "\n",
    "# Contoh Operator < (Kurang dari)\n",
    "if a < 100:\n",
    "    print(t)\n",
    "else:\n",
    "    print(f)\n",
    "\n",
    "# Contoh Operator > (Lebih besar dari)\n",
    "if a > 65:\n",
    "    print(t)\n",
    "else:\n",
    "    print(f)\n",
    "\n",
    "# Contoh Operator <= (Kurang dari atau sama dengan)\n",
    "if a <= 100:\n",
    "    print(t)\n",
    "else:\n",
    "    print(f)\n",
    "\n",
    "# Contoh Operator >= (Lebih besar dari atau sama dengan)\n",
    "if a >= 65:\n",
    "    print(t)\n",
    "else:\n",
    "    print(f)"
   ]
  },
  {
   "cell_type": "markdown",
   "metadata": {},
   "source": [
    "## Logic Operator\n",
    "Operator ini bisa digunakan untuk menggabungkan kondisi berganda dan menghasilkan sebuah ekspresi bernilai true atau false."
   ]
  },
  {
   "cell_type": "markdown",
   "metadata": {},
   "source": [
    "| Operator   | Fungsi                |\n",
    "|------------|-----------------------|\n",
    "| and        | Melakukan operasi AND |\n",
    "| or         | Melakukan operasi OR  |\n",
    "| not        | Melakukan operasi NOT |"
   ]
  },
  {
   "cell_type": "code",
   "execution_count": 25,
   "metadata": {},
   "outputs": [
    {
     "name": "stdout",
     "output_type": "stream",
     "text": [
      "True\n",
      "True\n",
      "True\n"
     ]
    }
   ],
   "source": [
    "# Contoh Operator and\n",
    "a = 5\n",
    "b = 10\n",
    "print(a and b < 25)\n",
    "\n",
    "# Contoh Operator or\n",
    "c = 0\n",
    "d = 20\n",
    "print(c or d > 10)\n",
    "\n",
    "# Contah Operator not\n",
    "e = 25\n",
    "f = 30\n",
    "print(not(e and f > 100))"
   ]
  },
  {
   "cell_type": "markdown",
   "metadata": {},
   "source": [
    "## Bitwise Operator\n",
    "Operator Bitwise merupakan operator yang digunakan untuk melakukan operasi berdasarkan bit atau bilangan biner."
   ]
  },
  {
   "cell_type": "markdown",
   "metadata": {},
   "source": [
    "| Operator | Fungsi                |\n",
    "|----------|-----------------------|\n",
    "| &        | Melakukan operasi AND |\n",
    "| I        | Melakukan operasi OR  |\n",
    "| ^        | Melakukan operasi XOR |\n",
    "| ~        | Negasi                |"
   ]
  },
  {
   "cell_type": "markdown",
   "metadata": {},
   "source": [
    "Let us see the Truth Table behind Python Bitwise Operators is:\n",
    "\n",
    "| X\t| Y\t| X & Y | X I Y\t| X ^ Y|\n",
    "|---|---|-------|-------|------|\n",
    "| 0\t| 0\t| 0\t    | 0\t    | 0    |\n",
    "| 0\t| 1\t| 0\t    | 1\t    | 1    |\n",
    "| 1\t| 0\t| 0\t    | 1\t    | 1    |\n",
    "| 1\t| 1\t| 1  \t| 1\t    | 0    |"
   ]
  },
  {
   "cell_type": "code",
   "execution_count": 26,
   "metadata": {},
   "outputs": [
    {
     "name": "stdout",
     "output_type": "stream",
     "text": [
      "Bitwise AND Operator On 9 and 65 is =  1\n",
      "Bitwise OR Operator On 9 and 65 is =  73\n",
      "Bitwise EXCLUSIVE OR Operator On 9 and 65 is =  72\n",
      "Bitwise NOT Operator On 9 is =  -10\n"
     ]
    }
   ],
   "source": [
    "a = 9\n",
    "b = 65\n",
    "print(\"Bitwise AND Operator On 9 and 65 is = \", a & b)\n",
    "print(\"Bitwise OR Operator On 9 and 65 is = \", a | b)\n",
    "print(\"Bitwise EXCLUSIVE OR Operator On 9 and 65 is = \", a ^ b)\n",
    "print(\"Bitwise NOT Operator On 9 is = \", ~a)"
   ]
  },
  {
   "cell_type": "markdown",
   "metadata": {},
   "source": [
    "Lets see the calculations<br>\n",
    "Bitwise AND Operation = a & b<br>\n",
    "00001001 & 01000001 = 00000001 = 1<br>\n",
    "\n",
    "Bitwise OR Operation = a | b<br>\n",
    "00001001 | 01000001 = 01001001 = 73<br>\n",
    "\n",
    "Bitwise Exclusive OR Operation in Python = a ^ b<br>\n",
    "00001001 ^ 01000001 = 01001000 = 72<br>"
   ]
  },
  {
   "cell_type": "markdown",
   "metadata": {},
   "source": [
    "source example Bitwise Operator : https://www.tutorialgateway.org/python-bitwise-operators/"
   ]
  },
  {
   "cell_type": "code",
   "execution_count": null,
   "metadata": {},
   "outputs": [],
   "source": []
  }
 ],
 "metadata": {
  "kernelspec": {
   "display_name": "Python 3",
   "language": "python",
   "name": "python3"
  },
  "language_info": {
   "codemirror_mode": {
    "name": "ipython",
    "version": 3
   },
   "file_extension": ".py",
   "mimetype": "text/x-python",
   "name": "python",
   "nbconvert_exporter": "python",
   "pygments_lexer": "ipython3",
   "version": "3.7.3"
  }
 },
 "nbformat": 4,
 "nbformat_minor": 2
}
