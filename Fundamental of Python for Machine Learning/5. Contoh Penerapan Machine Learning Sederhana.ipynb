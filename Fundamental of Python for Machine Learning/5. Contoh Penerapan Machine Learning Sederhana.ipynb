{
 "cells": [
  {
   "cell_type": "markdown",
   "metadata": {},
   "source": [
    "# Implementasi Machine Learning Sederhana\n",
    "Berikut adalah tahapan dlam membuat *machine learning* sederhana.\n",
    "\n",
    "* Memahami permasalahan yang akan diselesaikan.\n",
    "* Memilih metode yang akan digunakan.\n",
    "* Tahapan mempersiapkan data.\n",
    "* Tahapan implementasi."
   ]
  },
  {
   "cell_type": "markdown",
   "metadata": {},
   "source": [
    "# Contoh Studi Kasus dan Dataset\n",
    "Pada bagian ini akan dibahas studi kasus sederhana untuk membuat machine learning dengan menerapkan metode *Simple Regresi Linear.* Sebuah penelitian dilakukan untuk mengetahui pengaruh biaya promosi terhadap pendapatan penjualan sebuah perusahaan.\n",
    "\n",
    "Simple regresi linear akan digunakan untuk memprediksi nilai penjualan yang akan diperoleh berdasarkan biaya promosi yang dikeluarkan. Disamping itu hasil machine learning juga akan bisa melihat korelasi antara Biaya Promosi dengan nilai penjualan yang diperoleh. Output lain yang bisa diperoleh adalah grafik korelasinya antara kedua variabel tersebut."
   ]
  },
  {
   "cell_type": "markdown",
   "metadata": {},
   "source": [
    "# Memahami Algoritma Simple Regresi Linear\n",
    "*Simple Regresi Linear* adalah salah satu metode yang biasa digunakan untuk menguji sejauh mana hubungan sebab akibat antara dua buah variabel. Kedua variabel tersebut sering disebut sebagai variabel faktor penyebab (X) terhadap variabel akibat (Y). Variabel X seringkali disebut sebagai *Predictor,* sedangkan variabel Y seringkali disebut sebagai *Response.*\n",
    "\n",
    "*Simple Regresi Linear* seringkali dipergunakan untuk melakukan prediksi atau peramalan baik tentang karakteristik baik yang bersifat kualitas maupun kuantitas."
   ]
  },
  {
   "cell_type": "markdown",
   "metadata": {},
   "source": [
    "Model persamaan *Simple Regresi Linear*\n",
    "\n",
    "**Y = a + bX**\n",
    "\n",
    "dimana:\n",
    "* Y = Variabel Akibat *(Response)* yang juga disebut sebagai *dependent variable.*\n",
    "* X = Variabel Faktor Penyebab atau *predictor* yang juga merupakan *independent variable.*\n",
    "* a = konstanta.\n",
    "* b = koefisien regresi, yaitu besaran *Response* yang ditimbulkan oleh *Predictor.*"
   ]
  },
  {
   "cell_type": "markdown",
   "metadata": {},
   "source": [
    "![LinearRegression](LinearRegression.JPG)"
   ]
  },
  {
   "cell_type": "markdown",
   "metadata": {},
   "source": [
    "Penjelasan dari grafik diatas:\n",
    "* Jumlah pembelian adalah Y, atau variabel akibat yang juga disebut *dependent variable.*\n",
    "* Biaya Promosi adalah X, atau predictor, variabel faktor penyebab, yang juga disebut sebagai variabel *independent.*\n",
    "* Garis lurus (warna merah) disebut sebagai *predicted value* dari Y untuk X.\n",
    "* Titik-titik yang berada di seputar garis lurus tersebut adalah *observed* value."
   ]
  },
  {
   "cell_type": "markdown",
   "metadata": {},
   "source": [
    "# Implementasi Program dengan Python"
   ]
  },
  {
   "cell_type": "markdown",
   "metadata": {},
   "source": [
    "## Mempersiapkan Library\n",
    "Berikut Library yang akan digunakan:\n",
    "* NumPy, yaitu library yang akan digunakan untuk kebutuhan *scientific* dan matematika.\n",
    "* Pandas, yaitu library yang digunakan untuk manipulasi data seperti membuat tabel, mengubah dimensi data, mengecek data dan sebagainya.\n",
    "* Matplotlib, yaitu library yang digunakan untuk membuat grafik plot sesuai kebutuhan.\n",
    "* Sklearn, adala library untuk berbagai metode dan algoritma yang digunakan dalam *machine learning.*"
   ]
  },
  {
   "cell_type": "code",
   "execution_count": 1,
   "metadata": {},
   "outputs": [],
   "source": [
    "# Mempersiapkan library\n",
    "import numpy as np\n",
    "import pandas as pd\n",
    "import matplotlib.pyplot as plt\n",
    "import sklearn"
   ]
  },
  {
   "cell_type": "markdown",
   "metadata": {},
   "source": [
    "## Memanggil Dataset\n",
    "Memanggil dataset yang sudah disiapkan yaitu file Sales_Data.csv."
   ]
  },
  {
   "cell_type": "code",
   "execution_count": 2,
   "metadata": {},
   "outputs": [],
   "source": [
    "# Memanggil dataset\n",
    "dataset = pd.read_csv('Sales_Data.csv', sep=';')\n",
    "X = dataset.iloc[:, :-1].values\n",
    "y = dataset.iloc[:, 1].values"
   ]
  },
  {
   "cell_type": "markdown",
   "metadata": {},
   "source": [
    "Kode tersebut jika dieksekusi akan menghasilkan 3 variabel baru yang dapat diproses yaitu:\n",
    "* Variabel dataset: berisi keseluruhan data,\n",
    "* Variabel X: berisi data sebagai independent variable.\n",
    "* Variabel y: berisi data sebagai dependent variable.\n",
    "\n",
    "Jika ingin melihat variabel-variabel dalam dataset, bisa menggunakan perintah sebagai berikut:"
   ]
  },
  {
   "cell_type": "code",
   "execution_count": 3,
   "metadata": {},
   "outputs": [
    {
     "data": {
      "text/plain": [
       "Index(['BiayaPromo', 'NilaiPenjualan'], dtype='object')"
      ]
     },
     "execution_count": 3,
     "metadata": {},
     "output_type": "execute_result"
    }
   ],
   "source": [
    "# Melihat variabel dalam dataset\n",
    "dataset.keys()"
   ]
  },
  {
   "cell_type": "markdown",
   "metadata": {},
   "source": [
    "Atau jika ingin melihat *shape* dari dataset bisa dilakukan perintah sebagai berikut."
   ]
  },
  {
   "cell_type": "code",
   "execution_count": 4,
   "metadata": {},
   "outputs": [
    {
     "data": {
      "text/plain": [
       "(20, 2)"
      ]
     },
     "execution_count": 4,
     "metadata": {},
     "output_type": "execute_result"
    }
   ],
   "source": [
    "# Melihat shape dataset\n",
    "dataset.shape"
   ]
  },
  {
   "cell_type": "markdown",
   "metadata": {},
   "source": [
    "## Melihat isi dataset.\n",
    "Pandas bisa digunakan untuk menampilkan sebagian isi dari dataset dengan menggunakan perintah sebagai berikut."
   ]
  },
  {
   "cell_type": "code",
   "execution_count": 5,
   "metadata": {},
   "outputs": [
    {
     "data": {
      "text/html": [
       "<div>\n",
       "<style scoped>\n",
       "    .dataframe tbody tr th:only-of-type {\n",
       "        vertical-align: middle;\n",
       "    }\n",
       "\n",
       "    .dataframe tbody tr th {\n",
       "        vertical-align: top;\n",
       "    }\n",
       "\n",
       "    .dataframe thead th {\n",
       "        text-align: right;\n",
       "    }\n",
       "</style>\n",
       "<table border=\"1\" class=\"dataframe\">\n",
       "  <thead>\n",
       "    <tr style=\"text-align: right;\">\n",
       "      <th></th>\n",
       "      <th>BiayaPromo</th>\n",
       "      <th>NilaiPenjualan</th>\n",
       "    </tr>\n",
       "  </thead>\n",
       "  <tbody>\n",
       "    <tr>\n",
       "      <th>0</th>\n",
       "      <td>1500</td>\n",
       "      <td>90500</td>\n",
       "    </tr>\n",
       "    <tr>\n",
       "      <th>1</th>\n",
       "      <td>1800</td>\n",
       "      <td>89500</td>\n",
       "    </tr>\n",
       "    <tr>\n",
       "      <th>2</th>\n",
       "      <td>1900</td>\n",
       "      <td>105000</td>\n",
       "    </tr>\n",
       "    <tr>\n",
       "      <th>3</th>\n",
       "      <td>2050</td>\n",
       "      <td>102000</td>\n",
       "    </tr>\n",
       "    <tr>\n",
       "      <th>4</th>\n",
       "      <td>2050</td>\n",
       "      <td>90500</td>\n",
       "    </tr>\n",
       "  </tbody>\n",
       "</table>\n",
       "</div>"
      ],
      "text/plain": [
       "   BiayaPromo  NilaiPenjualan\n",
       "0        1500           90500\n",
       "1        1800           89500\n",
       "2        1900          105000\n",
       "3        2050          102000\n",
       "4        2050           90500"
      ]
     },
     "execution_count": 5,
     "metadata": {},
     "output_type": "execute_result"
    }
   ],
   "source": [
    "# Menampilkan isi sebagian dataset\n",
    "dataku = pd.DataFrame(dataset)\n",
    "dataku.head()"
   ]
  },
  {
   "cell_type": "markdown",
   "metadata": {},
   "source": [
    "## Split Dataset\n",
    "Pada bagian ini digunakan untuk membagi dataset manjadi dua bagian yaitu Training Set dan Testing Set. Training Set akan digunakan sebagai data latih, yaitu menggunakan 80% dari data. Sementara Testing Set digunakan untuk data uji dan dalam kasus ini menggunakan 20% dari data."
   ]
  },
  {
   "cell_type": "code",
   "execution_count": 6,
   "metadata": {},
   "outputs": [],
   "source": [
    "# Split Dataset menjadi Training set dan Testing set\n",
    "from sklearn.model_selection import train_test_split\n",
    "X_train, X_test, y_train, y_test = train_test_split(X, y, test_size = 0.2, random_state = 0)"
   ]
  },
  {
   "cell_type": "markdown",
   "metadata": {},
   "source": [
    "Kode di atas jika di eksekusi akan mengasilkan 4 variabel tambahan yaitu X_train, X_test, y_train, y_test yang akan diproses dalam training dan testing model."
   ]
  },
  {
   "cell_type": "markdown",
   "metadata": {},
   "source": [
    "## *Fitting* metode Simple Linear Regression\n",
    "Bagian ini digunakan untuk melakukan fitting metode Simple Linear Regression pada training set."
   ]
  },
  {
   "cell_type": "code",
   "execution_count": 7,
   "metadata": {},
   "outputs": [
    {
     "data": {
      "text/plain": [
       "LinearRegression(copy_X=True, fit_intercept=True, n_jobs=None, normalize=False)"
      ]
     },
     "execution_count": 7,
     "metadata": {},
     "output_type": "execute_result"
    }
   ],
   "source": [
    "# Melakukan Fitting Simple Linear Regression pata training set\n",
    "from sklearn.linear_model import LinearRegression\n",
    "regressor = LinearRegression()\n",
    "regressor.fit(X_train, y_train)"
   ]
  },
  {
   "cell_type": "markdown",
   "metadata": {},
   "source": [
    "Dengan demikian, *fitting* Simple Linear Regression pada training set (X_train dan y_train) sudah dilakukan dan machine learning dengan model *Simple Regresi Linear* sudah siap dijalankan dengan kondisi seperti di atas."
   ]
  },
  {
   "cell_type": "markdown",
   "metadata": {},
   "source": [
    "## Melakukan prediksi untuk hasil Test set."
   ]
  },
  {
   "cell_type": "code",
   "execution_count": 8,
   "metadata": {},
   "outputs": [],
   "source": [
    "# Memprediksi hasil Test-Set\n",
    "y_pred = regressor.predict(X_test)"
   ]
  },
  {
   "cell_type": "markdown",
   "metadata": {},
   "source": [
    "Sampai pada tahap ini, machine learning sudah menghasilkan variabel y_test dan y_pred sebagai berikut.\n",
    "* Variabel y_test adalah data sesungguhnya (observasi) dari nilai penjualan\n",
    "* Variabel y_pred adalah data hasil prediksi dari nilai penjualan *machine learning.*"
   ]
  },
  {
   "cell_type": "markdown",
   "metadata": {},
   "source": [
    "## Visualisasi Data\n",
    "Visualisasi data antara nilai penjualan dengan biaya promosi"
   ]
  },
  {
   "cell_type": "code",
   "execution_count": 9,
   "metadata": {},
   "outputs": [
    {
     "data": {
      "image/png": "[encoded data removed]",
      "text/plain": [
       "<Figure size 432x288 with 1 Axes>"
      ]
     },
     "metadata": {
      "needs_background": "light"
     },
     "output_type": "display_data"
    }
   ],
   "source": [
    "# Visualisasi Data\n",
    "plt.scatter(dataku['BiayaPromo'], dataku['NilaiPenjualan'])\n",
    "plt.xlabel(\"Biaya Promosi\")\n",
    "plt.ylabel(\"Nilai Penjualan\")\n",
    "plt.title(\"Grafik Nilai Penjualan berdasarkan Biaya Promosi\")\n",
    "plt.show()"
   ]
  },
  {
   "cell_type": "markdown",
   "metadata": {},
   "source": [
    "## Visualisasi hasil *Machine Learning.*\n",
    "Visualisasi menggunakan grafik plot sehingga gambaran hasil dari model secara keseluruhan dapat kita lihat."
   ]
  },
  {
   "cell_type": "code",
   "execution_count": 10,
   "metadata": {},
   "outputs": [
    {
     "data": {
      "image/png": "[encoded data removed]",
      "text/plain": [
       "<Figure size 720x576 with 1 Axes>"
      ]
     },
     "metadata": {
      "needs_background": "light"
     },
     "output_type": "display_data"
    }
   ],
   "source": [
    "# VISUALISASI HASIL PREDIKSI PADA TRAINING-SET\n",
    "# Ukuran Plot\n",
    "plt.figure(figsize = (10,8))\n",
    "\n",
    "# Biru adalah data observasi\n",
    "plt.scatter(X_train, y_train, color = 'blue')\n",
    "\n",
    "# Garis Merah adalah hasil prediksi dari machine learning\n",
    "plt.plot(X_train, regressor.predict(X_train), color = 'red')\n",
    "\n",
    "# Memberi Judul dan label\n",
    "plt.title(\"Biaya Promosi terhadap Penjualan (Training Set)\")\n",
    "plt.xlabel(\"Biaya Promosi\")\n",
    "plt.ylabel(\"Penjualan\")\n",
    "\n",
    "# Menampilkan plot\n",
    "plt.show()"
   ]
  },
  {
   "cell_type": "code",
   "execution_count": 11,
   "metadata": {},
   "outputs": [
    {
     "data": {
      "image/png": "[encoded data removed]",
      "text/plain": [
       "<Figure size 720x576 with 1 Axes>"
      ]
     },
     "metadata": {
      "needs_background": "light"
     },
     "output_type": "display_data"
    }
   ],
   "source": [
    "# VISUALISASI HASIL PREDIKSI PADA TEST-SET\n",
    "# Ukuran Plot\n",
    "plt.figure(figsize = (10,8))\n",
    "\n",
    "# Biru adalah data observasi\n",
    "plt.scatter(X_test, y_test, color = 'blue')\n",
    "\n",
    "# Garis Merah adalah hasil prediksi dari machine learning\n",
    "plt.plot(X_test, regressor.predict(X_test), color = 'red')\n",
    "\n",
    "# Memberi Judul dan label\n",
    "plt.title(\"Biaya Promosi terhadap Penjualan (Training Set)\")\n",
    "plt.xlabel(\"Biaya Promosi\")\n",
    "plt.ylabel(\"Penjualan\")\n",
    "\n",
    "# Menampilkan plot\n",
    "plt.show()"
   ]
  },
  {
   "cell_type": "markdown",
   "metadata": {},
   "source": [
    "Dari visualisasi-visualisasi di atas, terlihat bahwa model *machine learning* sudah menghasilkan output berupa hasil prediksi hasil jumlah pembelian berdasarkan code burger. Tanda titik-titik menunjukkan sebaran data hasil observasi atau data sesungguhnya. Sedangkan garis lurus menunjukkan nilai prediksi yang dihasilkan oleh machine learning menggunakan simple regresi linear."
   ]
  },
  {
   "cell_type": "code",
   "execution_count": null,
   "metadata": {},
   "outputs": [],
   "source": []
  }
 ],
 "metadata": {
  "kernelspec": {
   "display_name": "Python 3",
   "language": "python",
   "name": "python3"
  },
  "language_info": {
   "codemirror_mode": {
    "name": "ipython",
    "version": 3
   },
   "file_extension": ".py",
   "mimetype": "text/x-python",
   "name": "python",
   "nbconvert_exporter": "python",
   "pygments_lexer": "ipython3",
   "version": "3.7.3"
  }
 },
 "nbformat": 4,
 "nbformat_minor": 2
}
